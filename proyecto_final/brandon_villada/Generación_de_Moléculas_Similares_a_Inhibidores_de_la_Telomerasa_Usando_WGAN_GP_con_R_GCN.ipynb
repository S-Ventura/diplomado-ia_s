{
  "cells": [
    {
      "cell_type": "markdown",
      "metadata": {
        "id": "ONzfG-aVGRNQ"
      },
      "source": [
        "# Generación de Moléculas Similares a Inhibidores de la Telomerasa Usando WGAN-GP con R-GCN\n",
        "\n",
        "**Author:** Brandon Villada<br>\n",
        "**Description:** Desarrollar un modelo generativo basado en redes\n",
        "adversariales y convolucionales sobre grafos para generar compuestos\n",
        "moleculares con potencial inhibitorio de la telomerasa, inspirados en la\n",
        "estructura química de Telomerase-IN-2 (CAS: 1610878-54-0)."
      ]
    },
    {
      "cell_type": "markdown",
      "metadata": {
        "id": "Z2UPp0oZGRNS"
      },
      "source": [
        "## Introduction\n",
        "\n",
        "La enzima telomerasa es responsable de mantener la longitud de los telómeros\n",
        "en las células. Si bien su actividad es esencial en algunas células madre, se ha\n",
        "identificado una reactivación anormal de la telomerasa en más del 90% de los\n",
        "tipos de cáncer, permitiendo una proliferación indefinida de las células\n",
        "tumorales. Además, su inhibición ha sido estudiada como una estrategia de\n",
        "intervención en procesos relacionados con el envejecimiento celular.\n",
        "En este proyecto se propone la generación de nuevas moléculas similares a\n",
        "Telomerase-IN-2, un inhibidor que actúa sobre la telomerasa reduciendo la\n",
        "expresión de dyskerina (IC50: 0.89 µM). El objetivo es aprovechar modelos\n",
        "generativos profundos para explorar regiones no visitadas del espacio químico\n",
        "y proponer candidatos novedosos.\n",
        "### References (implementation)\n",
        "\n",
        "La implementacion esta basada en y el trabajo de [akensert](https://github.com/akensert)\n",
        "[MolGAN paper](https://arxiv.org/abs/1805.11973) and DeepChem's\n",
        "[Basic MolGAN](https://deepchem.readthedocs.io/en/latest/api_reference/models.html#basicmolganmodel).\n"
      ]
    },
    {
      "cell_type": "markdown",
      "metadata": {
        "id": "kGqBpGJPGRNS"
      },
      "source": [
        "##Configuracion\n",
        "\n",
        "Instalar RDKit\n",
        "RDKit es una colección de herramientas de quimioinformática y aprendizaje automático escritas en C++ y Python. En este tutorial, RDKit se utiliza para transformar de manera conveniente y eficiente cadenas SMILES en objetos moleculares, y a partir de ellos obtener conjuntos de átomos y enlaces.\n",
        "\n",
        "SMILES expresa la estructura de una molécula mediante una cadena ASCII. Esta representación es compacta y, en el caso de moléculas pequeñas, relativamente legible para humanos. Codificar moléculas como cadenas facilita su almacenamiento en bases de datos y su búsqueda web. RDKit utiliza algoritmos para transformar con precisión una cadena SMILES en un objeto molecular, el cual puede ser usado para calcular muchas propiedades y características moleculares.\n",
        "\n",
        "RDKit normalmente se instala usando Conda. Sin embargo, gracias a rdkit_platform_wheels, ahora puede instalarse fácilmente con pip, como se muestra a continuación:\n",
        "\n",
        "bash\n",
        "Copiar\n",
        "Editar\n",
        "pip -q install rdkit-pypi\n",
        "Y para permitir la visualización de objetos moleculares, también es necesario instalar Pillow:\n",
        "\n",
        "bash\n",
        "Copiar\n",
        "Editar\n",
        "pip -q install Pillow\n",
        "Molécula de referencia: Telomerase-IN-2\n",
        "Nombre: Telomerase-IN-2 (Inhibidor de Telomerasa 2)\n",
        "\n",
        "CAS: 1610878-54-0\n",
        "\n",
        "Actividad: Inhibidor de la telomerasa mediante disminución de la expresión de dyskerina\n",
        "\n",
        "SMILES:\n",
        "COc1cc(OC)c2c(c1)oc(-c1cc(OC)c(OC)c(OC)c1)c(OCCCCN1CCN(CC1)C(=O)c1ccncc1)c2=O\n",
        "\n",
        "Observaciones: Esta molécula contiene varias subestructuras aromáticas y grupos funcionales como aminas terciarias y éteres, lo que la convierte en un excelente punto de partida para generar variantes estructurales.\n",
        "\n",
        "##Dataset y Preparación\n",
        "Inicialmente se consideró el uso del dataset QM9, ampliamente utilizado para tareas de predicción de propiedades moleculares. Sin embargo, se identificó una limitación clave: las moléculas contenidas en QM9 tienen pesos moleculares mucho menores (< 200 Da) y no representan adecuadamente la complejidad de fármacos reales como Telomerase-IN-2.\n",
        "\n",
        "Por esta razón, se decidió cambiar al dataset \"250k_rndm_zinc_drugs_clean_3.csv\" de ZINC, el cual ofrece moléculas más grandes y realistas. Se filtraron 175,396 moléculas con pesos moleculares entre 300 y 600 Da para representar estructuras comparables a Telomerase-IN-2 (peso molecular ≈ 480 Da), resultando en 122,034 moléculas útiles.\n",
        "\n",
        "Las moléculas se convirtieron de SMILES a grafos utilizando RDKit, generando:\n",
        "\n",
        "Tensores de adyacencia (tipos de enlace)\n",
        "\n",
        "Tensores de características atómicas (one-hot encoding)\n",
        "\n",
        "Modificaciones al Código\n",
        "Se amplió el diccionario de átomos para incluir elementos como C, N, O, F.\n",
        "\n",
        "Se incrementó NUM_ATOMS de 9 (valor usado en QM9) a 80, para permitir representar estructuras más grandes.\n",
        "\n",
        "Se ajustaron las dimensiones ATOM_DIM y BOND_DIM para reflejar el nuevo espacio de tipos de átomos y enlaces.\n",
        "\n",
        "Se incorporó un manejo robusto de errores en la conversión SMILES → grafo para evitar descartes silenciosos.\n",
        "\n"
      ]
    },
    {
      "cell_type": "markdown",
      "metadata": {
        "id": "6otOqAA7GRNS"
      },
      "source": [
        "### Import packages"
      ]
    },
    {
      "cell_type": "code",
      "execution_count": 4,
      "metadata": {
        "id": "qXH0HfJzGRNT"
      },
      "outputs": [],
      "source": [
        "!pip -q install rdkit-pypi\n",
        "!pip -q install Pillow\n",
        "from rdkit import Chem, RDLogger\n",
        "from rdkit.Chem.Draw import IPythonConsole, MolsToGridImage\n",
        "import numpy as np\n",
        "import tensorflow as tf\n",
        "from tensorflow import keras\n",
        "import pandas as pd\n",
        "from rdkit import Chem\n",
        "from rdkit.Chem import Descriptors\n",
        "import numpy as np\n",
        "import tensorflow as tf\n",
        "\n",
        "RDLogger.DisableLog(\"rdApp.*\")"
      ]
    },
    {
      "cell_type": "code",
      "source": [
        "from google.colab import drive\n",
        "drive.mount('/content/drive')"
      ],
      "metadata": {
        "id": "qIcbTo0FGTQ6",
        "colab": {
          "base_uri": "https://localhost:8080/"
        },
        "outputId": "17657da0-1604-421b-9aef-5075c101d68b"
      },
      "execution_count": 5,
      "outputs": [
        {
          "output_type": "stream",
          "name": "stdout",
          "text": [
            "Drive already mounted at /content/drive; to attempt to forcibly remount, call drive.mount(\"/content/drive\", force_remount=True).\n"
          ]
        }
      ]
    },
    {
      "cell_type": "markdown",
      "metadata": {
        "id": "A8Nq1HcaGRNT"
      },
      "source": [
        "## Dataset\n",
        "\n",
        "El dataset \"250k_rndm_zinc_drugs_clean_3.csv\" de ZINC, el cual ofrece moléculas más grandes y realistas. Se filtraron 175,396 moléculas con pesos moleculares entre 300 y 600 Da para representar estructuras comparables a Telomerase-IN-2 (peso molecular ≈ 480 Da), resultando en 122,034 moléculas útiles.\n",
        "\n",
        "Este se descargo desde la plataforma de kaggle."
      ]
    },
    {
      "cell_type": "code",
      "execution_count": 6,
      "metadata": {
        "id": "tXeLYUL7GRNT",
        "colab": {
          "base_uri": "https://localhost:8080/",
          "height": 254
        },
        "outputId": "a51c5b4c-9e5e-4b03-d8d3-7c1848b15f5a"
      },
      "outputs": [
        {
          "output_type": "stream",
          "name": "stdout",
          "text": [
            "Columnas disponibles: Index(['smiles', 'logP', 'qed', 'SAS'], dtype='object')\n",
            "Total moléculas: 173575\n",
            "Moléculas entre 300 y 600 Da: 122034\n",
            "SMILES: COc1cc(OC)c2c(c1)oc(-c1cc(OC)c(OC)c(OC)c1)c(OCCCCN1CCN(CC1)C(=O)c1ccncc1)c2=O\n",
            "Num heavy atoms: 46\n"
          ]
        },
        {
          "output_type": "execute_result",
          "data": {
            "text/plain": [
              "<rdkit.Chem.rdchem.Mol at 0x78a012725770>"
            ],
            "image/png": "[encoded data removed]"
          },
          "metadata": {},
          "execution_count": 6
        }
      ],
      "source": [
        "df = pd.read_csv(\"250k_rndm_zinc_drugs_clean_3.csv\")\n",
        "print(\"Columnas disponibles:\", df.columns)\n",
        "print(\"Total moléculas:\", len(df))\n",
        "\n",
        "# Paso 2: obtener la columna de SMILES\n",
        "smiles_list = df[\"smiles\"].tolist()  # asegúrate que la columna se llame 'smiles'\n",
        "\n",
        "# Paso 3: filtrar por peso molecular\n",
        "def filter_by_mw(smiles_list, min_mw=300, max_mw=600):\n",
        "    filtered = []\n",
        "    for smi in smiles_list:\n",
        "        mol = Chem.MolFromSmiles(smi)\n",
        "        if mol:\n",
        "            mw = Descriptors.MolWt(mol)\n",
        "            if min_mw <= mw <= max_mw:\n",
        "                filtered.append(smi)\n",
        "    return filtered\n",
        "\n",
        "filtered_smiles = filter_by_mw(smiles_list, 300, 600)\n",
        "print(\"Moléculas entre 300 y 600 Da:\", len(filtered_smiles))\n",
        "\n",
        "# Let's look at a molecule of the dataset\n",
        "smiles = \"COc1cc(OC)c2c(c1)oc(-c1cc(OC)c(OC)c(OC)c1)c(OCCCCN1CCN(CC1)C(=O)c1ccncc1)c2=O\"\n",
        "print(\"SMILES:\", smiles)\n",
        "molecule = Chem.MolFromSmiles(smiles)\n",
        "print(\"Num heavy atoms:\", molecule.GetNumHeavyAtoms())\n",
        "molecule"
      ]
    },
    {
      "cell_type": "markdown",
      "metadata": {
        "id": "ZFI8FDfKGRNU"
      },
      "source": [
        "### Definir funciones auxiliares\n",
        "Estas funciones auxiliares permitirán convertir cadenas SMILES a grafos moleculares y viceversa, de grafos a objetos moleculares.\n",
        "\n",
        "Representación de un grafo molecular\n",
        "Las moléculas pueden representarse naturalmente como grafos no dirigidos G = (V, E), donde:\n",
        "\n",
        "V es el conjunto de vértices (átomos),\n",
        "\n",
        "E es el conjunto de aristas (enlaces).\n",
        "\n",
        "En esta implementación, cada grafo (molécula) se representará mediante:\n",
        "\n",
        "Un tensor de adyacencia A, que codifica la existencia o no de pares de átomos conectados, junto con el tipo de enlace entre ellos, codificado en formato one-hot en una dimensión adicional.\n",
        "\n",
        "Un tensor de características H, que codifica para cada átomo su tipo atómico mediante one-hot encoding.\n",
        "\n",
        "Nota: Los átomos de hidrógeno se excluyen tanto de A como de H, ya que pueden inferirse automáticamente mediante RDKit. Esto simplifica el modelado."
      ]
    },
    {
      "cell_type": "code",
      "execution_count": 7,
      "metadata": {
        "id": "EavNbMdSGRNU",
        "colab": {
          "base_uri": "https://localhost:8080/",
          "height": 167
        },
        "outputId": "38f79809-812d-4acb-dc26-c88c33f9bbdf"
      },
      "outputs": [
        {
          "output_type": "execute_result",
          "data": {
            "text/plain": [
              "<rdkit.Chem.rdchem.RWMol at 0x78a0163f6e30>"
            ],
            "image/png": "[encoded data removed]"
          },
          "metadata": {},
          "execution_count": 7
        }
      ],
      "source": [
        "atom_mapping = {\n",
        "    \"C\": 0,\n",
        "    0: \"C\",\n",
        "    \"N\": 1,\n",
        "    1: \"N\",\n",
        "    \"O\": 2,\n",
        "    2: \"O\",\n",
        "    \"F\": 3,\n",
        "    3: \"F\",\n",
        "}\n",
        "\n",
        "bond_mapping = {\n",
        "    \"SINGLE\": 0,\n",
        "    0: Chem.BondType.SINGLE,\n",
        "    \"DOUBLE\": 1,\n",
        "    1: Chem.BondType.DOUBLE,\n",
        "    \"TRIPLE\": 2,\n",
        "    2: Chem.BondType.TRIPLE,\n",
        "    \"AROMATIC\": 3,\n",
        "    3: Chem.BondType.AROMATIC,\n",
        "}\n",
        "\n",
        "NUM_ATOMS = 80\n",
        "ATOM_DIM = 4 + 1  # Number of atom types\n",
        "BOND_DIM = 4 + 1  # Number of bond types\n",
        "LATENT_DIM = 64  # Size of the latent space\n",
        "\n",
        "\n",
        "def smiles_to_graph(smiles):\n",
        "    molecule = Chem.MolFromSmiles(smiles)\n",
        "    if molecule is None or molecule.GetNumAtoms() > NUM_ATOMS:\n",
        "        return None\n",
        "\n",
        "    adjacency = np.zeros((BOND_DIM, NUM_ATOMS, NUM_ATOMS), dtype=\"float32\")\n",
        "    features = np.zeros((NUM_ATOMS, ATOM_DIM), dtype=\"float32\")\n",
        "\n",
        "    try:\n",
        "        for atom in molecule.GetAtoms():\n",
        "            i = atom.GetIdx()\n",
        "            atom_type = atom_mapping.get(atom.GetSymbol(), ATOM_DIM - 1)\n",
        "            features[i] = np.eye(ATOM_DIM)[atom_type]\n",
        "\n",
        "            for neighbor in atom.GetNeighbors():\n",
        "                j = neighbor.GetIdx()\n",
        "                bond = molecule.GetBondBetweenAtoms(i, j)\n",
        "                bond_type_idx = bond_mapping.get(bond.GetBondType().name, BOND_DIM - 1)\n",
        "                adjacency[bond_type_idx, [i, j], [j, i]] = 1\n",
        "\n",
        "        # Donde no hay enlace, marcar como \"no-bond\"\n",
        "        adjacency[-1, np.sum(adjacency, axis=0) == 0] = 1\n",
        "        # Donde no hay átomo, marcar como \"non-atom\"\n",
        "        features[np.where(np.sum(features, axis=1) == 0)[0], -1] = 1\n",
        "\n",
        "    except Exception as e:\n",
        "        print(f\"❌ SMILES inválido: {smiles} — {e}\")\n",
        "        return None\n",
        "\n",
        "    return adjacency, features\n",
        "\n",
        "# Reconstruye una molécula RDKit desde los tensores\n",
        "def graph_to_molecule(graph):\n",
        "    adjacency, features = graph\n",
        "    molecule = Chem.RWMol()\n",
        "\n",
        "    keep_idx = np.where(\n",
        "        (np.argmax(features, axis=1) != ATOM_DIM - 1)\n",
        "        & (np.sum(adjacency[:-1], axis=(0, 1)) != 0)\n",
        "    )[0]\n",
        "    features = features[keep_idx]\n",
        "    adjacency = adjacency[:, keep_idx, :][:, :, keep_idx]\n",
        "\n",
        "    for atom_type_idx in np.argmax(features, axis=1):\n",
        "        atom = Chem.Atom(atom_mapping[atom_type_idx])\n",
        "        _ = molecule.AddAtom(atom)\n",
        "\n",
        "    (bonds_ij, atoms_i, atoms_j) = np.where(np.triu(adjacency) == 1)\n",
        "    for (bond_ij, atom_i, atom_j) in zip(bonds_ij, atoms_i, atoms_j):\n",
        "        if atom_i == atom_j or bond_ij == BOND_DIM - 1:\n",
        "            continue\n",
        "        bond_type = bond_mapping[bond_ij]\n",
        "        molecule.AddBond(int(atom_i), int(atom_j), bond_type)\n",
        "\n",
        "    flag = Chem.SanitizeMol(molecule, catchErrors=True)\n",
        "    if flag != Chem.SanitizeFlags.SANITIZE_NONE:\n",
        "        return None\n",
        "\n",
        "    return molecule\n",
        "\n",
        "# Test helper functions\n",
        "graph_to_molecule(smiles_to_graph(smiles))"
      ]
    },
    {
      "cell_type": "markdown",
      "metadata": {
        "id": "c1dnz1TsGRNU"
      },
      "source": [
        "##Arquitectura del Modelo\n",
        "Se desarrolló una arquitectura basada en WGAN-GP (Wasserstein GAN con penalización de gradiente), adecuada para tareas de generación de grafos moleculares debido a su estabilidad durante el entrenamiento.\n",
        "\n",
        "Componentes del modelo:\n",
        "Generador: recibe como entrada un vector latente de dimensión 64 y genera como salida grafos moleculares que representan posibles estructuras químicas.\n",
        "\n",
        "Discriminador: evalúa si un grafo dado proviene del conjunto real (moléculas verdaderas del dataset) o ha sido generado por el modelo.\n",
        "\n",
        "Mejoras y estabilización:\n",
        "Se utilizó WGAN con penalización de gradiente (WGAN-GP), lo cual introduce robustez durante el entrenamiento mediante los siguientes mecanismos:\n",
        "\n",
        "gp_weight = 1.0: peso asignado al término de penalización de gradiente.\n",
        "\n",
        "Clipping de logits del discriminador: para evitar salidas extremas que dificulten la retropropagación.\n",
        "\n",
        "Control de la norma del gradiente con clip_by_norm: evita explosión de gradientes al limitar su magnitud.\n",
        "\n",
        "Entrenamiento:\n",
        "Dispositivo: GPU T4\n",
        "\n",
        "Épocas: 100\n",
        "\n",
        "Tamaño de batch: 16\n",
        "\n",
        "Este enfoque permitió una generación más estable y precisa de moléculas sintéticas, manteniendo propiedades estructurales realistas."
      ]
    },
    {
      "cell_type": "code",
      "execution_count": 8,
      "metadata": {
        "id": "oReWCPZwGRNV",
        "colab": {
          "base_uri": "https://localhost:8080/"
        },
        "outputId": "579b5c85-52f6-4463-d820-c927285d7e9c"
      },
      "outputs": [
        {
          "output_type": "stream",
          "name": "stdout",
          "text": [
            "adjacency_tensor.shape = (12204, 5, 80, 80)\n",
            "feature_tensor.shape = (12204, 80, 5)\n"
          ]
        }
      ],
      "source": [
        "adjacency_tensor, feature_tensor = [], []\n",
        "data = filtered_smiles\n",
        "for smiles in data[::10]:\n",
        "    result = smiles_to_graph(smiles)\n",
        "    if result:\n",
        "        adjacency, features = result\n",
        "        adjacency_tensor.append(adjacency)\n",
        "        feature_tensor.append(features)\n",
        "\n",
        "# 🔧 Convertir primero a np.array para asegurar forma correcta\n",
        "adjacency_tensor = tf.convert_to_tensor(np.array(adjacency_tensor), dtype=tf.float32)\n",
        "feature_tensor = tf.convert_to_tensor(np.array(feature_tensor), dtype=tf.float32)\n",
        "\n",
        "print(\"adjacency_tensor.shape =\", adjacency_tensor.shape)\n",
        "print(\"feature_tensor.shape =\", feature_tensor.shape)"
      ]
    },
    {
      "cell_type": "code",
      "execution_count": 9,
      "metadata": {
        "id": "sDwRyQxuGRNV",
        "colab": {
          "base_uri": "https://localhost:8080/",
          "height": 753
        },
        "outputId": "3a0ba837-8b86-4b19-d573-153d213a9fb1"
      },
      "outputs": [
        {
          "output_type": "display_data",
          "data": {
            "text/plain": [
              "\u001b[1mModel: \"GraphGenerator\"\u001b[0m\n"
            ],
            "text/html": [
              "<pre style=\"white-space:pre;overflow-x:auto;line-height:normal;font-family:Menlo,'DejaVu Sans Mono',consolas,'Courier New',monospace\"><span style=\"font-weight: bold\">Model: \"GraphGenerator\"</span>\n",
              "</pre>\n"
            ]
          },
          "metadata": {}
        },
        {
          "output_type": "display_data",
          "data": {
            "text/plain": [
              "┏━━━━━━━━━━━━━━━━━━━━━┳━━━━━━━━━━━━━━━━━━━┳━━━━━━━━━━━━┳━━━━━━━━━━━━━━━━━━━┓\n",
              "┃\u001b[1m \u001b[0m\u001b[1mLayer (type)       \u001b[0m\u001b[1m \u001b[0m┃\u001b[1m \u001b[0m\u001b[1mOutput Shape     \u001b[0m\u001b[1m \u001b[0m┃\u001b[1m \u001b[0m\u001b[1m   Param #\u001b[0m\u001b[1m \u001b[0m┃\u001b[1m \u001b[0m\u001b[1mConnected to     \u001b[0m\u001b[1m \u001b[0m┃\n",
              "┡━━━━━━━━━━━━━━━━━━━━━╇━━━━━━━━━━━━━━━━━━━╇━━━━━━━━━━━━╇━━━━━━━━━━━━━━━━━━━┩\n",
              "│ latent_input        │ (\u001b[38;5;45mNone\u001b[0m, \u001b[38;5;34m64\u001b[0m)        │          \u001b[38;5;34m0\u001b[0m │ -                 │\n",
              "│ (\u001b[38;5;33mInputLayer\u001b[0m)        │                   │            │                   │\n",
              "├─────────────────────┼───────────────────┼────────────┼───────────────────┤\n",
              "│ dense_0 (\u001b[38;5;33mDense\u001b[0m)     │ (\u001b[38;5;45mNone\u001b[0m, \u001b[38;5;34m128\u001b[0m)       │      \u001b[38;5;34m8,320\u001b[0m │ latent_input[\u001b[38;5;34m0\u001b[0m][\u001b[38;5;34m…\u001b[0m │\n",
              "├─────────────────────┼───────────────────┼────────────┼───────────────────┤\n",
              "│ dropout_0 (\u001b[38;5;33mDropout\u001b[0m) │ (\u001b[38;5;45mNone\u001b[0m, \u001b[38;5;34m128\u001b[0m)       │          \u001b[38;5;34m0\u001b[0m │ dense_0[\u001b[38;5;34m0\u001b[0m][\u001b[38;5;34m0\u001b[0m]     │\n",
              "├─────────────────────┼───────────────────┼────────────┼───────────────────┤\n",
              "│ dense_1 (\u001b[38;5;33mDense\u001b[0m)     │ (\u001b[38;5;45mNone\u001b[0m, \u001b[38;5;34m256\u001b[0m)       │     \u001b[38;5;34m33,024\u001b[0m │ dropout_0[\u001b[38;5;34m0\u001b[0m][\u001b[38;5;34m0\u001b[0m]   │\n",
              "├─────────────────────┼───────────────────┼────────────┼───────────────────┤\n",
              "│ dropout_1 (\u001b[38;5;33mDropout\u001b[0m) │ (\u001b[38;5;45mNone\u001b[0m, \u001b[38;5;34m256\u001b[0m)       │          \u001b[38;5;34m0\u001b[0m │ dense_1[\u001b[38;5;34m0\u001b[0m][\u001b[38;5;34m0\u001b[0m]     │\n",
              "├─────────────────────┼───────────────────┼────────────┼───────────────────┤\n",
              "│ dense_2 (\u001b[38;5;33mDense\u001b[0m)     │ (\u001b[38;5;45mNone\u001b[0m, \u001b[38;5;34m512\u001b[0m)       │    \u001b[38;5;34m131,584\u001b[0m │ dropout_1[\u001b[38;5;34m0\u001b[0m][\u001b[38;5;34m0\u001b[0m]   │\n",
              "├─────────────────────┼───────────────────┼────────────┼───────────────────┤\n",
              "│ dropout_2 (\u001b[38;5;33mDropout\u001b[0m) │ (\u001b[38;5;45mNone\u001b[0m, \u001b[38;5;34m512\u001b[0m)       │          \u001b[38;5;34m0\u001b[0m │ dense_2[\u001b[38;5;34m0\u001b[0m][\u001b[38;5;34m0\u001b[0m]     │\n",
              "├─────────────────────┼───────────────────┼────────────┼───────────────────┤\n",
              "│ adjacency_dense     │ (\u001b[38;5;45mNone\u001b[0m, \u001b[38;5;34m32000\u001b[0m)     │ \u001b[38;5;34m16,416,000\u001b[0m │ dropout_2[\u001b[38;5;34m0\u001b[0m][\u001b[38;5;34m0\u001b[0m]   │\n",
              "│ (\u001b[38;5;33mDense\u001b[0m)             │                   │            │                   │\n",
              "├─────────────────────┼───────────────────┼────────────┼───────────────────┤\n",
              "│ adjacency_reshape   │ (\u001b[38;5;45mNone\u001b[0m, \u001b[38;5;34m5\u001b[0m, \u001b[38;5;34m80\u001b[0m, \u001b[38;5;34m80\u001b[0m) │          \u001b[38;5;34m0\u001b[0m │ adjacency_dense[\u001b[38;5;34m…\u001b[0m │\n",
              "│ (\u001b[38;5;33mReshape\u001b[0m)           │                   │            │                   │\n",
              "├─────────────────────┼───────────────────┼────────────┼───────────────────┤\n",
              "│ adjacency_transpose │ (\u001b[38;5;45mNone\u001b[0m, \u001b[38;5;34m5\u001b[0m, \u001b[38;5;34m80\u001b[0m, \u001b[38;5;34m80\u001b[0m) │          \u001b[38;5;34m0\u001b[0m │ adjacency_reshap… │\n",
              "│ (\u001b[38;5;33mLambda\u001b[0m)            │                   │            │                   │\n",
              "├─────────────────────┼───────────────────┼────────────┼───────────────────┤\n",
              "│ feature_dense       │ (\u001b[38;5;45mNone\u001b[0m, \u001b[38;5;34m400\u001b[0m)       │    \u001b[38;5;34m205,200\u001b[0m │ dropout_2[\u001b[38;5;34m0\u001b[0m][\u001b[38;5;34m0\u001b[0m]   │\n",
              "│ (\u001b[38;5;33mDense\u001b[0m)             │                   │            │                   │\n",
              "├─────────────────────┼───────────────────┼────────────┼───────────────────┤\n",
              "│ adjacency_symmetri… │ (\u001b[38;5;45mNone\u001b[0m, \u001b[38;5;34m5\u001b[0m, \u001b[38;5;34m80\u001b[0m, \u001b[38;5;34m80\u001b[0m) │          \u001b[38;5;34m0\u001b[0m │ adjacency_reshap… │\n",
              "│ (\u001b[38;5;33mAverage\u001b[0m)           │                   │            │ adjacency_transp… │\n",
              "├─────────────────────┼───────────────────┼────────────┼───────────────────┤\n",
              "│ feature_reshape     │ (\u001b[38;5;45mNone\u001b[0m, \u001b[38;5;34m80\u001b[0m, \u001b[38;5;34m5\u001b[0m)     │          \u001b[38;5;34m0\u001b[0m │ feature_dense[\u001b[38;5;34m0\u001b[0m]… │\n",
              "│ (\u001b[38;5;33mReshape\u001b[0m)           │                   │            │                   │\n",
              "├─────────────────────┼───────────────────┼────────────┼───────────────────┤\n",
              "│ adjacency_softmax   │ (\u001b[38;5;45mNone\u001b[0m, \u001b[38;5;34m5\u001b[0m, \u001b[38;5;34m80\u001b[0m, \u001b[38;5;34m80\u001b[0m) │          \u001b[38;5;34m0\u001b[0m │ adjacency_symmet… │\n",
              "│ (\u001b[38;5;33mSoftmax\u001b[0m)           │                   │            │                   │\n",
              "├─────────────────────┼───────────────────┼────────────┼───────────────────┤\n",
              "│ feature_softmax     │ (\u001b[38;5;45mNone\u001b[0m, \u001b[38;5;34m80\u001b[0m, \u001b[38;5;34m5\u001b[0m)     │          \u001b[38;5;34m0\u001b[0m │ feature_reshape[\u001b[38;5;34m…\u001b[0m │\n",
              "│ (\u001b[38;5;33mSoftmax\u001b[0m)           │                   │            │                   │\n",
              "└─────────────────────┴───────────────────┴────────────┴───────────────────┘\n"
            ],
            "text/html": [
              "<pre style=\"white-space:pre;overflow-x:auto;line-height:normal;font-family:Menlo,'DejaVu Sans Mono',consolas,'Courier New',monospace\">┏━━━━━━━━━━━━━━━━━━━━━┳━━━━━━━━━━━━━━━━━━━┳━━━━━━━━━━━━┳━━━━━━━━━━━━━━━━━━━┓\n",
              "┃<span style=\"font-weight: bold\"> Layer (type)        </span>┃<span style=\"font-weight: bold\"> Output Shape      </span>┃<span style=\"font-weight: bold\">    Param # </span>┃<span style=\"font-weight: bold\"> Connected to      </span>┃\n",
              "┡━━━━━━━━━━━━━━━━━━━━━╇━━━━━━━━━━━━━━━━━━━╇━━━━━━━━━━━━╇━━━━━━━━━━━━━━━━━━━┩\n",
              "│ latent_input        │ (<span style=\"color: #00d7ff; text-decoration-color: #00d7ff\">None</span>, <span style=\"color: #00af00; text-decoration-color: #00af00\">64</span>)        │          <span style=\"color: #00af00; text-decoration-color: #00af00\">0</span> │ -                 │\n",
              "│ (<span style=\"color: #0087ff; text-decoration-color: #0087ff\">InputLayer</span>)        │                   │            │                   │\n",
              "├─────────────────────┼───────────────────┼────────────┼───────────────────┤\n",
              "│ dense_0 (<span style=\"color: #0087ff; text-decoration-color: #0087ff\">Dense</span>)     │ (<span style=\"color: #00d7ff; text-decoration-color: #00d7ff\">None</span>, <span style=\"color: #00af00; text-decoration-color: #00af00\">128</span>)       │      <span style=\"color: #00af00; text-decoration-color: #00af00\">8,320</span> │ latent_input[<span style=\"color: #00af00; text-decoration-color: #00af00\">0</span>][<span style=\"color: #00af00; text-decoration-color: #00af00\">…</span> │\n",
              "├─────────────────────┼───────────────────┼────────────┼───────────────────┤\n",
              "│ dropout_0 (<span style=\"color: #0087ff; text-decoration-color: #0087ff\">Dropout</span>) │ (<span style=\"color: #00d7ff; text-decoration-color: #00d7ff\">None</span>, <span style=\"color: #00af00; text-decoration-color: #00af00\">128</span>)       │          <span style=\"color: #00af00; text-decoration-color: #00af00\">0</span> │ dense_0[<span style=\"color: #00af00; text-decoration-color: #00af00\">0</span>][<span style=\"color: #00af00; text-decoration-color: #00af00\">0</span>]     │\n",
              "├─────────────────────┼───────────────────┼────────────┼───────────────────┤\n",
              "│ dense_1 (<span style=\"color: #0087ff; text-decoration-color: #0087ff\">Dense</span>)     │ (<span style=\"color: #00d7ff; text-decoration-color: #00d7ff\">None</span>, <span style=\"color: #00af00; text-decoration-color: #00af00\">256</span>)       │     <span style=\"color: #00af00; text-decoration-color: #00af00\">33,024</span> │ dropout_0[<span style=\"color: #00af00; text-decoration-color: #00af00\">0</span>][<span style=\"color: #00af00; text-decoration-color: #00af00\">0</span>]   │\n",
              "├─────────────────────┼───────────────────┼────────────┼───────────────────┤\n",
              "│ dropout_1 (<span style=\"color: #0087ff; text-decoration-color: #0087ff\">Dropout</span>) │ (<span style=\"color: #00d7ff; text-decoration-color: #00d7ff\">None</span>, <span style=\"color: #00af00; text-decoration-color: #00af00\">256</span>)       │          <span style=\"color: #00af00; text-decoration-color: #00af00\">0</span> │ dense_1[<span style=\"color: #00af00; text-decoration-color: #00af00\">0</span>][<span style=\"color: #00af00; text-decoration-color: #00af00\">0</span>]     │\n",
              "├─────────────────────┼───────────────────┼────────────┼───────────────────┤\n",
              "│ dense_2 (<span style=\"color: #0087ff; text-decoration-color: #0087ff\">Dense</span>)     │ (<span style=\"color: #00d7ff; text-decoration-color: #00d7ff\">None</span>, <span style=\"color: #00af00; text-decoration-color: #00af00\">512</span>)       │    <span style=\"color: #00af00; text-decoration-color: #00af00\">131,584</span> │ dropout_1[<span style=\"color: #00af00; text-decoration-color: #00af00\">0</span>][<span style=\"color: #00af00; text-decoration-color: #00af00\">0</span>]   │\n",
              "├─────────────────────┼───────────────────┼────────────┼───────────────────┤\n",
              "│ dropout_2 (<span style=\"color: #0087ff; text-decoration-color: #0087ff\">Dropout</span>) │ (<span style=\"color: #00d7ff; text-decoration-color: #00d7ff\">None</span>, <span style=\"color: #00af00; text-decoration-color: #00af00\">512</span>)       │          <span style=\"color: #00af00; text-decoration-color: #00af00\">0</span> │ dense_2[<span style=\"color: #00af00; text-decoration-color: #00af00\">0</span>][<span style=\"color: #00af00; text-decoration-color: #00af00\">0</span>]     │\n",
              "├─────────────────────┼───────────────────┼────────────┼───────────────────┤\n",
              "│ adjacency_dense     │ (<span style=\"color: #00d7ff; text-decoration-color: #00d7ff\">None</span>, <span style=\"color: #00af00; text-decoration-color: #00af00\">32000</span>)     │ <span style=\"color: #00af00; text-decoration-color: #00af00\">16,416,000</span> │ dropout_2[<span style=\"color: #00af00; text-decoration-color: #00af00\">0</span>][<span style=\"color: #00af00; text-decoration-color: #00af00\">0</span>]   │\n",
              "│ (<span style=\"color: #0087ff; text-decoration-color: #0087ff\">Dense</span>)             │                   │            │                   │\n",
              "├─────────────────────┼───────────────────┼────────────┼───────────────────┤\n",
              "│ adjacency_reshape   │ (<span style=\"color: #00d7ff; text-decoration-color: #00d7ff\">None</span>, <span style=\"color: #00af00; text-decoration-color: #00af00\">5</span>, <span style=\"color: #00af00; text-decoration-color: #00af00\">80</span>, <span style=\"color: #00af00; text-decoration-color: #00af00\">80</span>) │          <span style=\"color: #00af00; text-decoration-color: #00af00\">0</span> │ adjacency_dense[<span style=\"color: #00af00; text-decoration-color: #00af00\">…</span> │\n",
              "│ (<span style=\"color: #0087ff; text-decoration-color: #0087ff\">Reshape</span>)           │                   │            │                   │\n",
              "├─────────────────────┼───────────────────┼────────────┼───────────────────┤\n",
              "│ adjacency_transpose │ (<span style=\"color: #00d7ff; text-decoration-color: #00d7ff\">None</span>, <span style=\"color: #00af00; text-decoration-color: #00af00\">5</span>, <span style=\"color: #00af00; text-decoration-color: #00af00\">80</span>, <span style=\"color: #00af00; text-decoration-color: #00af00\">80</span>) │          <span style=\"color: #00af00; text-decoration-color: #00af00\">0</span> │ adjacency_reshap… │\n",
              "│ (<span style=\"color: #0087ff; text-decoration-color: #0087ff\">Lambda</span>)            │                   │            │                   │\n",
              "├─────────────────────┼───────────────────┼────────────┼───────────────────┤\n",
              "│ feature_dense       │ (<span style=\"color: #00d7ff; text-decoration-color: #00d7ff\">None</span>, <span style=\"color: #00af00; text-decoration-color: #00af00\">400</span>)       │    <span style=\"color: #00af00; text-decoration-color: #00af00\">205,200</span> │ dropout_2[<span style=\"color: #00af00; text-decoration-color: #00af00\">0</span>][<span style=\"color: #00af00; text-decoration-color: #00af00\">0</span>]   │\n",
              "│ (<span style=\"color: #0087ff; text-decoration-color: #0087ff\">Dense</span>)             │                   │            │                   │\n",
              "├─────────────────────┼───────────────────┼────────────┼───────────────────┤\n",
              "│ adjacency_symmetri… │ (<span style=\"color: #00d7ff; text-decoration-color: #00d7ff\">None</span>, <span style=\"color: #00af00; text-decoration-color: #00af00\">5</span>, <span style=\"color: #00af00; text-decoration-color: #00af00\">80</span>, <span style=\"color: #00af00; text-decoration-color: #00af00\">80</span>) │          <span style=\"color: #00af00; text-decoration-color: #00af00\">0</span> │ adjacency_reshap… │\n",
              "│ (<span style=\"color: #0087ff; text-decoration-color: #0087ff\">Average</span>)           │                   │            │ adjacency_transp… │\n",
              "├─────────────────────┼───────────────────┼────────────┼───────────────────┤\n",
              "│ feature_reshape     │ (<span style=\"color: #00d7ff; text-decoration-color: #00d7ff\">None</span>, <span style=\"color: #00af00; text-decoration-color: #00af00\">80</span>, <span style=\"color: #00af00; text-decoration-color: #00af00\">5</span>)     │          <span style=\"color: #00af00; text-decoration-color: #00af00\">0</span> │ feature_dense[<span style=\"color: #00af00; text-decoration-color: #00af00\">0</span>]… │\n",
              "│ (<span style=\"color: #0087ff; text-decoration-color: #0087ff\">Reshape</span>)           │                   │            │                   │\n",
              "├─────────────────────┼───────────────────┼────────────┼───────────────────┤\n",
              "│ adjacency_softmax   │ (<span style=\"color: #00d7ff; text-decoration-color: #00d7ff\">None</span>, <span style=\"color: #00af00; text-decoration-color: #00af00\">5</span>, <span style=\"color: #00af00; text-decoration-color: #00af00\">80</span>, <span style=\"color: #00af00; text-decoration-color: #00af00\">80</span>) │          <span style=\"color: #00af00; text-decoration-color: #00af00\">0</span> │ adjacency_symmet… │\n",
              "│ (<span style=\"color: #0087ff; text-decoration-color: #0087ff\">Softmax</span>)           │                   │            │                   │\n",
              "├─────────────────────┼───────────────────┼────────────┼───────────────────┤\n",
              "│ feature_softmax     │ (<span style=\"color: #00d7ff; text-decoration-color: #00d7ff\">None</span>, <span style=\"color: #00af00; text-decoration-color: #00af00\">80</span>, <span style=\"color: #00af00; text-decoration-color: #00af00\">5</span>)     │          <span style=\"color: #00af00; text-decoration-color: #00af00\">0</span> │ feature_reshape[<span style=\"color: #00af00; text-decoration-color: #00af00\">…</span> │\n",
              "│ (<span style=\"color: #0087ff; text-decoration-color: #0087ff\">Softmax</span>)           │                   │            │                   │\n",
              "└─────────────────────┴───────────────────┴────────────┴───────────────────┘\n",
              "</pre>\n"
            ]
          },
          "metadata": {}
        },
        {
          "output_type": "display_data",
          "data": {
            "text/plain": [
              "\u001b[1m Total params: \u001b[0m\u001b[38;5;34m16,794,128\u001b[0m (64.06 MB)\n"
            ],
            "text/html": [
              "<pre style=\"white-space:pre;overflow-x:auto;line-height:normal;font-family:Menlo,'DejaVu Sans Mono',consolas,'Courier New',monospace\"><span style=\"font-weight: bold\"> Total params: </span><span style=\"color: #00af00; text-decoration-color: #00af00\">16,794,128</span> (64.06 MB)\n",
              "</pre>\n"
            ]
          },
          "metadata": {}
        },
        {
          "output_type": "display_data",
          "data": {
            "text/plain": [
              "\u001b[1m Trainable params: \u001b[0m\u001b[38;5;34m16,794,128\u001b[0m (64.06 MB)\n"
            ],
            "text/html": [
              "<pre style=\"white-space:pre;overflow-x:auto;line-height:normal;font-family:Menlo,'DejaVu Sans Mono',consolas,'Courier New',monospace\"><span style=\"font-weight: bold\"> Trainable params: </span><span style=\"color: #00af00; text-decoration-color: #00af00\">16,794,128</span> (64.06 MB)\n",
              "</pre>\n"
            ]
          },
          "metadata": {}
        },
        {
          "output_type": "display_data",
          "data": {
            "text/plain": [
              "\u001b[1m Non-trainable params: \u001b[0m\u001b[38;5;34m0\u001b[0m (0.00 B)\n"
            ],
            "text/html": [
              "<pre style=\"white-space:pre;overflow-x:auto;line-height:normal;font-family:Menlo,'DejaVu Sans Mono',consolas,'Courier New',monospace\"><span style=\"font-weight: bold\"> Non-trainable params: </span><span style=\"color: #00af00; text-decoration-color: #00af00\">0</span> (0.00 B)\n",
              "</pre>\n"
            ]
          },
          "metadata": {}
        }
      ],
      "source": [
        "def GraphGenerator(\n",
        "    dense_units,\n",
        "    dropout_rate,\n",
        "    latent_dim,\n",
        "    adjacency_shape,\n",
        "    feature_shape,\n",
        "):\n",
        "    z = keras.layers.Input(shape=(latent_dim,), name=\"latent_input\")\n",
        "\n",
        "    x = z\n",
        "    for i, units in enumerate(dense_units):\n",
        "        x = keras.layers.Dense(units, activation=\"tanh\", name=f\"dense_{i}\")(x)\n",
        "        x = keras.layers.Dropout(dropout_rate, name=f\"dropout_{i}\")(x)\n",
        "\n",
        "    adj_total_dim = int(np.prod(adjacency_shape))\n",
        "    feat_total_dim = int(np.prod(feature_shape))\n",
        "\n",
        "    # Adjacency tensor\n",
        "    x_adjacency = keras.layers.Dense(adj_total_dim, name=\"adjacency_dense\")(x)\n",
        "    x_adjacency = keras.layers.Reshape(adjacency_shape, name=\"adjacency_reshape\")(x_adjacency)\n",
        "    x_adjacency_transpose = keras.layers.Lambda(\n",
        "        lambda t: tf.transpose(t, perm=(0, 1, 3, 2)), name=\"adjacency_transpose\"\n",
        "    )(x_adjacency)\n",
        "    x_adjacency = keras.layers.Average(name=\"adjacency_symmetrize\")(\n",
        "        [x_adjacency, x_adjacency_transpose]\n",
        "    )\n",
        "    x_adjacency = keras.layers.Softmax(axis=1, name=\"adjacency_softmax\")(x_adjacency)\n",
        "\n",
        "    # Feature tensor\n",
        "    x_features = keras.layers.Dense(feat_total_dim, name=\"feature_dense\")(x)\n",
        "    x_features = keras.layers.Reshape(feature_shape, name=\"feature_reshape\")(x_features)\n",
        "    x_features = keras.layers.Softmax(axis=2, name=\"feature_softmax\")(x_features)\n",
        "\n",
        "    return keras.Model(inputs=z, outputs=[x_adjacency, x_features], name=\"GraphGenerator\")\n",
        "\n",
        "\n",
        "generator = GraphGenerator(\n",
        "    dense_units=[128, 256, 512],\n",
        "    dropout_rate=0.2,\n",
        "    latent_dim=LATENT_DIM,\n",
        "    adjacency_shape=(BOND_DIM, NUM_ATOMS, NUM_ATOMS),\n",
        "    feature_shape=(NUM_ATOMS, ATOM_DIM),\n",
        ")\n",
        "generator.summary()"
      ]
    },
    {
      "cell_type": "code",
      "execution_count": 10,
      "metadata": {
        "id": "86crLhSvGRNW",
        "colab": {
          "base_uri": "https://localhost:8080/",
          "height": 625
        },
        "outputId": "f7930fcf-c742-4fc3-b552-2ad2d56bcf49"
      },
      "outputs": [
        {
          "output_type": "display_data",
          "data": {
            "text/plain": [
              "\u001b[1mModel: \"functional\"\u001b[0m\n"
            ],
            "text/html": [
              "<pre style=\"white-space:pre;overflow-x:auto;line-height:normal;font-family:Menlo,'DejaVu Sans Mono',consolas,'Courier New',monospace\"><span style=\"font-weight: bold\">Model: \"functional\"</span>\n",
              "</pre>\n"
            ]
          },
          "metadata": {}
        },
        {
          "output_type": "display_data",
          "data": {
            "text/plain": [
              "┏━━━━━━━━━━━━━━━━━━━━━┳━━━━━━━━━━━━━━━━━━━┳━━━━━━━━━━━━┳━━━━━━━━━━━━━━━━━━━┓\n",
              "┃\u001b[1m \u001b[0m\u001b[1mLayer (type)       \u001b[0m\u001b[1m \u001b[0m┃\u001b[1m \u001b[0m\u001b[1mOutput Shape     \u001b[0m\u001b[1m \u001b[0m┃\u001b[1m \u001b[0m\u001b[1m   Param #\u001b[0m\u001b[1m \u001b[0m┃\u001b[1m \u001b[0m\u001b[1mConnected to     \u001b[0m\u001b[1m \u001b[0m┃\n",
              "┡━━━━━━━━━━━━━━━━━━━━━╇━━━━━━━━━━━━━━━━━━━╇━━━━━━━━━━━━╇━━━━━━━━━━━━━━━━━━━┩\n",
              "│ input_layer         │ (\u001b[38;5;45mNone\u001b[0m, \u001b[38;5;34m5\u001b[0m, \u001b[38;5;34m80\u001b[0m, \u001b[38;5;34m80\u001b[0m) │          \u001b[38;5;34m0\u001b[0m │ -                 │\n",
              "│ (\u001b[38;5;33mInputLayer\u001b[0m)        │                   │            │                   │\n",
              "├─────────────────────┼───────────────────┼────────────┼───────────────────┤\n",
              "│ input_layer_1       │ (\u001b[38;5;45mNone\u001b[0m, \u001b[38;5;34m80\u001b[0m, \u001b[38;5;34m5\u001b[0m)     │          \u001b[38;5;34m0\u001b[0m │ -                 │\n",
              "│ (\u001b[38;5;33mInputLayer\u001b[0m)        │                   │            │                   │\n",
              "├─────────────────────┼───────────────────┼────────────┼───────────────────┤\n",
              "│ relational_graph_c… │ (\u001b[38;5;45mNone\u001b[0m, \u001b[38;5;34m80\u001b[0m, \u001b[38;5;34m128\u001b[0m)   │      \u001b[38;5;34m3,200\u001b[0m │ input_layer[\u001b[38;5;34m0\u001b[0m][\u001b[38;5;34m0\u001b[0m… │\n",
              "│ (\u001b[38;5;33mRelationalGraphCo…\u001b[0m │                   │            │ input_layer_1[\u001b[38;5;34m0\u001b[0m]… │\n",
              "├─────────────────────┼───────────────────┼────────────┼───────────────────┤\n",
              "│ relational_graph_c… │ (\u001b[38;5;45mNone\u001b[0m, \u001b[38;5;34m80\u001b[0m, \u001b[38;5;34m128\u001b[0m)   │     \u001b[38;5;34m81,920\u001b[0m │ input_layer[\u001b[38;5;34m0\u001b[0m][\u001b[38;5;34m0\u001b[0m… │\n",
              "│ (\u001b[38;5;33mRelationalGraphCo…\u001b[0m │                   │            │ relational_graph… │\n",
              "├─────────────────────┼───────────────────┼────────────┼───────────────────┤\n",
              "│ relational_graph_c… │ (\u001b[38;5;45mNone\u001b[0m, \u001b[38;5;34m80\u001b[0m, \u001b[38;5;34m128\u001b[0m)   │     \u001b[38;5;34m81,920\u001b[0m │ input_layer[\u001b[38;5;34m0\u001b[0m][\u001b[38;5;34m0\u001b[0m… │\n",
              "│ (\u001b[38;5;33mRelationalGraphCo…\u001b[0m │                   │            │ relational_graph… │\n",
              "├─────────────────────┼───────────────────┼────────────┼───────────────────┤\n",
              "│ relational_graph_c… │ (\u001b[38;5;45mNone\u001b[0m, \u001b[38;5;34m80\u001b[0m, \u001b[38;5;34m128\u001b[0m)   │     \u001b[38;5;34m81,920\u001b[0m │ input_layer[\u001b[38;5;34m0\u001b[0m][\u001b[38;5;34m0\u001b[0m… │\n",
              "│ (\u001b[38;5;33mRelationalGraphCo…\u001b[0m │                   │            │ relational_graph… │\n",
              "├─────────────────────┼───────────────────┼────────────┼───────────────────┤\n",
              "│ global_average_poo… │ (\u001b[38;5;45mNone\u001b[0m, \u001b[38;5;34m128\u001b[0m)       │          \u001b[38;5;34m0\u001b[0m │ relational_graph… │\n",
              "│ (\u001b[38;5;33mGlobalAveragePool…\u001b[0m │                   │            │                   │\n",
              "├─────────────────────┼───────────────────┼────────────┼───────────────────┤\n",
              "│ dense (\u001b[38;5;33mDense\u001b[0m)       │ (\u001b[38;5;45mNone\u001b[0m, \u001b[38;5;34m512\u001b[0m)       │     \u001b[38;5;34m66,048\u001b[0m │ global_average_p… │\n",
              "├─────────────────────┼───────────────────┼────────────┼───────────────────┤\n",
              "│ dropout (\u001b[38;5;33mDropout\u001b[0m)   │ (\u001b[38;5;45mNone\u001b[0m, \u001b[38;5;34m512\u001b[0m)       │          \u001b[38;5;34m0\u001b[0m │ dense[\u001b[38;5;34m0\u001b[0m][\u001b[38;5;34m0\u001b[0m]       │\n",
              "├─────────────────────┼───────────────────┼────────────┼───────────────────┤\n",
              "│ dense_1 (\u001b[38;5;33mDense\u001b[0m)     │ (\u001b[38;5;45mNone\u001b[0m, \u001b[38;5;34m512\u001b[0m)       │    \u001b[38;5;34m262,656\u001b[0m │ dropout[\u001b[38;5;34m0\u001b[0m][\u001b[38;5;34m0\u001b[0m]     │\n",
              "├─────────────────────┼───────────────────┼────────────┼───────────────────┤\n",
              "│ dropout_1 (\u001b[38;5;33mDropout\u001b[0m) │ (\u001b[38;5;45mNone\u001b[0m, \u001b[38;5;34m512\u001b[0m)       │          \u001b[38;5;34m0\u001b[0m │ dense_1[\u001b[38;5;34m0\u001b[0m][\u001b[38;5;34m0\u001b[0m]     │\n",
              "├─────────────────────┼───────────────────┼────────────┼───────────────────┤\n",
              "│ dense_2 (\u001b[38;5;33mDense\u001b[0m)     │ (\u001b[38;5;45mNone\u001b[0m, \u001b[38;5;34m1\u001b[0m)         │        \u001b[38;5;34m513\u001b[0m │ dropout_1[\u001b[38;5;34m0\u001b[0m][\u001b[38;5;34m0\u001b[0m]   │\n",
              "└─────────────────────┴───────────────────┴────────────┴───────────────────┘\n"
            ],
            "text/html": [
              "<pre style=\"white-space:pre;overflow-x:auto;line-height:normal;font-family:Menlo,'DejaVu Sans Mono',consolas,'Courier New',monospace\">┏━━━━━━━━━━━━━━━━━━━━━┳━━━━━━━━━━━━━━━━━━━┳━━━━━━━━━━━━┳━━━━━━━━━━━━━━━━━━━┓\n",
              "┃<span style=\"font-weight: bold\"> Layer (type)        </span>┃<span style=\"font-weight: bold\"> Output Shape      </span>┃<span style=\"font-weight: bold\">    Param # </span>┃<span style=\"font-weight: bold\"> Connected to      </span>┃\n",
              "┡━━━━━━━━━━━━━━━━━━━━━╇━━━━━━━━━━━━━━━━━━━╇━━━━━━━━━━━━╇━━━━━━━━━━━━━━━━━━━┩\n",
              "│ input_layer         │ (<span style=\"color: #00d7ff; text-decoration-color: #00d7ff\">None</span>, <span style=\"color: #00af00; text-decoration-color: #00af00\">5</span>, <span style=\"color: #00af00; text-decoration-color: #00af00\">80</span>, <span style=\"color: #00af00; text-decoration-color: #00af00\">80</span>) │          <span style=\"color: #00af00; text-decoration-color: #00af00\">0</span> │ -                 │\n",
              "│ (<span style=\"color: #0087ff; text-decoration-color: #0087ff\">InputLayer</span>)        │                   │            │                   │\n",
              "├─────────────────────┼───────────────────┼────────────┼───────────────────┤\n",
              "│ input_layer_1       │ (<span style=\"color: #00d7ff; text-decoration-color: #00d7ff\">None</span>, <span style=\"color: #00af00; text-decoration-color: #00af00\">80</span>, <span style=\"color: #00af00; text-decoration-color: #00af00\">5</span>)     │          <span style=\"color: #00af00; text-decoration-color: #00af00\">0</span> │ -                 │\n",
              "│ (<span style=\"color: #0087ff; text-decoration-color: #0087ff\">InputLayer</span>)        │                   │            │                   │\n",
              "├─────────────────────┼───────────────────┼────────────┼───────────────────┤\n",
              "│ relational_graph_c… │ (<span style=\"color: #00d7ff; text-decoration-color: #00d7ff\">None</span>, <span style=\"color: #00af00; text-decoration-color: #00af00\">80</span>, <span style=\"color: #00af00; text-decoration-color: #00af00\">128</span>)   │      <span style=\"color: #00af00; text-decoration-color: #00af00\">3,200</span> │ input_layer[<span style=\"color: #00af00; text-decoration-color: #00af00\">0</span>][<span style=\"color: #00af00; text-decoration-color: #00af00\">0</span>… │\n",
              "│ (<span style=\"color: #0087ff; text-decoration-color: #0087ff\">RelationalGraphCo…</span> │                   │            │ input_layer_1[<span style=\"color: #00af00; text-decoration-color: #00af00\">0</span>]… │\n",
              "├─────────────────────┼───────────────────┼────────────┼───────────────────┤\n",
              "│ relational_graph_c… │ (<span style=\"color: #00d7ff; text-decoration-color: #00d7ff\">None</span>, <span style=\"color: #00af00; text-decoration-color: #00af00\">80</span>, <span style=\"color: #00af00; text-decoration-color: #00af00\">128</span>)   │     <span style=\"color: #00af00; text-decoration-color: #00af00\">81,920</span> │ input_layer[<span style=\"color: #00af00; text-decoration-color: #00af00\">0</span>][<span style=\"color: #00af00; text-decoration-color: #00af00\">0</span>… │\n",
              "│ (<span style=\"color: #0087ff; text-decoration-color: #0087ff\">RelationalGraphCo…</span> │                   │            │ relational_graph… │\n",
              "├─────────────────────┼───────────────────┼────────────┼───────────────────┤\n",
              "│ relational_graph_c… │ (<span style=\"color: #00d7ff; text-decoration-color: #00d7ff\">None</span>, <span style=\"color: #00af00; text-decoration-color: #00af00\">80</span>, <span style=\"color: #00af00; text-decoration-color: #00af00\">128</span>)   │     <span style=\"color: #00af00; text-decoration-color: #00af00\">81,920</span> │ input_layer[<span style=\"color: #00af00; text-decoration-color: #00af00\">0</span>][<span style=\"color: #00af00; text-decoration-color: #00af00\">0</span>… │\n",
              "│ (<span style=\"color: #0087ff; text-decoration-color: #0087ff\">RelationalGraphCo…</span> │                   │            │ relational_graph… │\n",
              "├─────────────────────┼───────────────────┼────────────┼───────────────────┤\n",
              "│ relational_graph_c… │ (<span style=\"color: #00d7ff; text-decoration-color: #00d7ff\">None</span>, <span style=\"color: #00af00; text-decoration-color: #00af00\">80</span>, <span style=\"color: #00af00; text-decoration-color: #00af00\">128</span>)   │     <span style=\"color: #00af00; text-decoration-color: #00af00\">81,920</span> │ input_layer[<span style=\"color: #00af00; text-decoration-color: #00af00\">0</span>][<span style=\"color: #00af00; text-decoration-color: #00af00\">0</span>… │\n",
              "│ (<span style=\"color: #0087ff; text-decoration-color: #0087ff\">RelationalGraphCo…</span> │                   │            │ relational_graph… │\n",
              "├─────────────────────┼───────────────────┼────────────┼───────────────────┤\n",
              "│ global_average_poo… │ (<span style=\"color: #00d7ff; text-decoration-color: #00d7ff\">None</span>, <span style=\"color: #00af00; text-decoration-color: #00af00\">128</span>)       │          <span style=\"color: #00af00; text-decoration-color: #00af00\">0</span> │ relational_graph… │\n",
              "│ (<span style=\"color: #0087ff; text-decoration-color: #0087ff\">GlobalAveragePool…</span> │                   │            │                   │\n",
              "├─────────────────────┼───────────────────┼────────────┼───────────────────┤\n",
              "│ dense (<span style=\"color: #0087ff; text-decoration-color: #0087ff\">Dense</span>)       │ (<span style=\"color: #00d7ff; text-decoration-color: #00d7ff\">None</span>, <span style=\"color: #00af00; text-decoration-color: #00af00\">512</span>)       │     <span style=\"color: #00af00; text-decoration-color: #00af00\">66,048</span> │ global_average_p… │\n",
              "├─────────────────────┼───────────────────┼────────────┼───────────────────┤\n",
              "│ dropout (<span style=\"color: #0087ff; text-decoration-color: #0087ff\">Dropout</span>)   │ (<span style=\"color: #00d7ff; text-decoration-color: #00d7ff\">None</span>, <span style=\"color: #00af00; text-decoration-color: #00af00\">512</span>)       │          <span style=\"color: #00af00; text-decoration-color: #00af00\">0</span> │ dense[<span style=\"color: #00af00; text-decoration-color: #00af00\">0</span>][<span style=\"color: #00af00; text-decoration-color: #00af00\">0</span>]       │\n",
              "├─────────────────────┼───────────────────┼────────────┼───────────────────┤\n",
              "│ dense_1 (<span style=\"color: #0087ff; text-decoration-color: #0087ff\">Dense</span>)     │ (<span style=\"color: #00d7ff; text-decoration-color: #00d7ff\">None</span>, <span style=\"color: #00af00; text-decoration-color: #00af00\">512</span>)       │    <span style=\"color: #00af00; text-decoration-color: #00af00\">262,656</span> │ dropout[<span style=\"color: #00af00; text-decoration-color: #00af00\">0</span>][<span style=\"color: #00af00; text-decoration-color: #00af00\">0</span>]     │\n",
              "├─────────────────────┼───────────────────┼────────────┼───────────────────┤\n",
              "│ dropout_1 (<span style=\"color: #0087ff; text-decoration-color: #0087ff\">Dropout</span>) │ (<span style=\"color: #00d7ff; text-decoration-color: #00d7ff\">None</span>, <span style=\"color: #00af00; text-decoration-color: #00af00\">512</span>)       │          <span style=\"color: #00af00; text-decoration-color: #00af00\">0</span> │ dense_1[<span style=\"color: #00af00; text-decoration-color: #00af00\">0</span>][<span style=\"color: #00af00; text-decoration-color: #00af00\">0</span>]     │\n",
              "├─────────────────────┼───────────────────┼────────────┼───────────────────┤\n",
              "│ dense_2 (<span style=\"color: #0087ff; text-decoration-color: #0087ff\">Dense</span>)     │ (<span style=\"color: #00d7ff; text-decoration-color: #00d7ff\">None</span>, <span style=\"color: #00af00; text-decoration-color: #00af00\">1</span>)         │        <span style=\"color: #00af00; text-decoration-color: #00af00\">513</span> │ dropout_1[<span style=\"color: #00af00; text-decoration-color: #00af00\">0</span>][<span style=\"color: #00af00; text-decoration-color: #00af00\">0</span>]   │\n",
              "└─────────────────────┴───────────────────┴────────────┴───────────────────┘\n",
              "</pre>\n"
            ]
          },
          "metadata": {}
        },
        {
          "output_type": "display_data",
          "data": {
            "text/plain": [
              "\u001b[1m Total params: \u001b[0m\u001b[38;5;34m578,177\u001b[0m (2.21 MB)\n"
            ],
            "text/html": [
              "<pre style=\"white-space:pre;overflow-x:auto;line-height:normal;font-family:Menlo,'DejaVu Sans Mono',consolas,'Courier New',monospace\"><span style=\"font-weight: bold\"> Total params: </span><span style=\"color: #00af00; text-decoration-color: #00af00\">578,177</span> (2.21 MB)\n",
              "</pre>\n"
            ]
          },
          "metadata": {}
        },
        {
          "output_type": "display_data",
          "data": {
            "text/plain": [
              "\u001b[1m Trainable params: \u001b[0m\u001b[38;5;34m578,177\u001b[0m (2.21 MB)\n"
            ],
            "text/html": [
              "<pre style=\"white-space:pre;overflow-x:auto;line-height:normal;font-family:Menlo,'DejaVu Sans Mono',consolas,'Courier New',monospace\"><span style=\"font-weight: bold\"> Trainable params: </span><span style=\"color: #00af00; text-decoration-color: #00af00\">578,177</span> (2.21 MB)\n",
              "</pre>\n"
            ]
          },
          "metadata": {}
        },
        {
          "output_type": "display_data",
          "data": {
            "text/plain": [
              "\u001b[1m Non-trainable params: \u001b[0m\u001b[38;5;34m0\u001b[0m (0.00 B)\n"
            ],
            "text/html": [
              "<pre style=\"white-space:pre;overflow-x:auto;line-height:normal;font-family:Menlo,'DejaVu Sans Mono',consolas,'Courier New',monospace\"><span style=\"font-weight: bold\"> Non-trainable params: </span><span style=\"color: #00af00; text-decoration-color: #00af00\">0</span> (0.00 B)\n",
              "</pre>\n"
            ]
          },
          "metadata": {}
        }
      ],
      "source": [
        "\n",
        "class RelationalGraphConvLayer(keras.layers.Layer):\n",
        "    def __init__(\n",
        "        self,\n",
        "        units=128,\n",
        "        activation=\"relu\",\n",
        "        use_bias=False,\n",
        "        kernel_initializer=\"glorot_uniform\",\n",
        "        bias_initializer=\"zeros\",\n",
        "        kernel_regularizer=None,\n",
        "        bias_regularizer=None,\n",
        "        **kwargs\n",
        "    ):\n",
        "        super().__init__(**kwargs)\n",
        "\n",
        "        self.units = units\n",
        "        self.activation = keras.activations.get(activation)\n",
        "        self.use_bias = use_bias\n",
        "        self.kernel_initializer = keras.initializers.get(kernel_initializer)\n",
        "        self.bias_initializer = keras.initializers.get(bias_initializer)\n",
        "        self.kernel_regularizer = keras.regularizers.get(kernel_regularizer)\n",
        "        self.bias_regularizer = keras.regularizers.get(bias_regularizer)\n",
        "\n",
        "    def build(self, input_shape):\n",
        "        bond_dim = input_shape[0][1]\n",
        "        atom_dim = input_shape[1][2]\n",
        "\n",
        "        self.kernel = self.add_weight(\n",
        "            shape=(bond_dim, atom_dim, self.units),\n",
        "            initializer=self.kernel_initializer,\n",
        "            regularizer=self.kernel_regularizer,\n",
        "            trainable=True,\n",
        "            name=\"W\",\n",
        "            dtype=tf.float32,\n",
        "        )\n",
        "\n",
        "        if self.use_bias:\n",
        "            self.bias = self.add_weight(\n",
        "                shape=(bond_dim, 1, self.units),\n",
        "                initializer=self.bias_initializer,\n",
        "                regularizer=self.bias_regularizer,\n",
        "                trainable=True,\n",
        "                name=\"b\",\n",
        "                dtype=tf.float32,\n",
        "            )\n",
        "\n",
        "        self.built = True\n",
        "\n",
        "    def call(self, inputs, training=False):\n",
        "        adjacency, features = inputs\n",
        "        # Aggregate information from neighbors\n",
        "        x = tf.matmul(adjacency, features[:, None, :, :])\n",
        "        # Apply linear transformation\n",
        "        x = tf.matmul(x, self.kernel)\n",
        "        if self.use_bias:\n",
        "            x += self.bias\n",
        "        # Reduce bond types dim\n",
        "        x_reduced = tf.reduce_sum(x, axis=1)\n",
        "        # Apply non-linear transformation\n",
        "        return self.activation(x_reduced)\n",
        "\n",
        "\n",
        "def GraphDiscriminator(\n",
        "    gconv_units, dense_units, dropout_rate, adjacency_shape, feature_shape\n",
        "):\n",
        "\n",
        "    adjacency = keras.layers.Input(shape=adjacency_shape)\n",
        "    features = keras.layers.Input(shape=feature_shape)\n",
        "\n",
        "    # Propagate through one or more graph convolutional layers\n",
        "    features_transformed = features\n",
        "    for units in gconv_units:\n",
        "        features_transformed = RelationalGraphConvLayer(units)(\n",
        "            [adjacency, features_transformed]\n",
        "        )\n",
        "\n",
        "    # Reduce 2-D representation of molecule to 1-D\n",
        "    x = keras.layers.GlobalAveragePooling1D()(features_transformed)\n",
        "\n",
        "    # Propagate through one or more densely connected layers\n",
        "    for units in dense_units:\n",
        "        x = keras.layers.Dense(units, activation=\"relu\")(x)\n",
        "        x = keras.layers.Dropout(dropout_rate)(x)\n",
        "\n",
        "    # For each molecule, output a single scalar value expressing the\n",
        "    # \"realness\" of the inputted molecule\n",
        "    x_out = keras.layers.Dense(1, dtype=\"float32\")(x)\n",
        "\n",
        "    return keras.Model(inputs=[adjacency, features], outputs=x_out)\n",
        "\n",
        "\n",
        "discriminator = GraphDiscriminator(\n",
        "    gconv_units=[128, 128, 128, 128],\n",
        "    dense_units=[512, 512],\n",
        "    dropout_rate=0.2,\n",
        "    adjacency_shape=(BOND_DIM, NUM_ATOMS, NUM_ATOMS),\n",
        "    feature_shape=(NUM_ATOMS, ATOM_DIM),\n",
        ")\n",
        "discriminator.summary()"
      ]
    },
    {
      "cell_type": "markdown",
      "metadata": {
        "id": "0rUtryKVGRNW"
      },
      "source": [
        "### WGAN-GP"
      ]
    },
    {
      "cell_type": "code",
      "execution_count": 11,
      "metadata": {
        "id": "MDTeDDgfGRNW"
      },
      "outputs": [],
      "source": [
        "class GraphWGAN(keras.Model):\n",
        "    def __init__(\n",
        "        self,\n",
        "        generator,\n",
        "        discriminator,\n",
        "        discriminator_steps=1,\n",
        "        generator_steps=1,\n",
        "        gp_weight=1.0,  # 🔧 Reducción para estabilidad\n",
        "        **kwargs\n",
        "    ):\n",
        "        super().__init__(**kwargs)\n",
        "        self.generator = generator\n",
        "        self.discriminator = discriminator\n",
        "        self.discriminator_steps = discriminator_steps\n",
        "        self.generator_steps = generator_steps\n",
        "        self.gp_weight = gp_weight\n",
        "        self.latent_dim = self.generator.input_shape[-1]\n",
        "\n",
        "    def compile(self, optimizer_generator, optimizer_discriminator, **kwargs):\n",
        "        super().compile(**kwargs)\n",
        "        self.optimizer_generator = optimizer_generator\n",
        "        self.optimizer_discriminator = optimizer_discriminator\n",
        "        self.metric_generator = keras.metrics.Mean(name=\"loss_gen\")\n",
        "        self.metric_discriminator = keras.metrics.Mean(name=\"loss_dis\")\n",
        "\n",
        "    def train_step(self, inputs):\n",
        "        if isinstance(inputs[0], tuple):\n",
        "            inputs = inputs[0]\n",
        "\n",
        "        adjacency_real, features_real = inputs\n",
        "        batch_size = tf.shape(adjacency_real)[0]\n",
        "\n",
        "        # --- Train Discriminator ---\n",
        "        for _ in range(self.discriminator_steps):\n",
        "            z = tf.random.normal((batch_size, self.latent_dim))\n",
        "            with tf.GradientTape() as tape:\n",
        "                adjacency_fake, features_fake = self.generator(z, training=True)\n",
        "                loss_d = self._loss_discriminator(\n",
        "                    (adjacency_real, features_real),\n",
        "                    (adjacency_fake, features_fake),\n",
        "                    batch_size\n",
        "                )\n",
        "\n",
        "            grads = tape.gradient(loss_d, self.discriminator.trainable_weights)\n",
        "            grads = [tf.clip_by_norm(g, 10.0) for g in grads]\n",
        "            self.optimizer_discriminator.apply_gradients(zip(grads, self.discriminator.trainable_weights))\n",
        "            self.metric_discriminator.update_state(loss_d)\n",
        "\n",
        "        # --- Train Generator ---\n",
        "        for _ in range(self.generator_steps):\n",
        "            z = tf.random.normal((batch_size, self.latent_dim))\n",
        "            with tf.GradientTape() as tape:\n",
        "                adjacency_fake, features_fake = self.generator(z, training=True)\n",
        "                logits_fake = self.discriminator([adjacency_fake, features_fake], training=True)\n",
        "                logits_fake = tf.clip_by_value(logits_fake, -1e5, 1e5)  # 🔧 estabilidad\n",
        "                loss_g = -tf.reduce_mean(logits_fake)\n",
        "\n",
        "            grads = tape.gradient(loss_g, self.generator.trainable_weights)\n",
        "            self.optimizer_generator.apply_gradients(zip(grads, self.generator.trainable_weights))\n",
        "            self.metric_generator.update_state(loss_g)\n",
        "\n",
        "        return {m.name: m.result() for m in self.metrics}\n",
        "\n",
        "    def _loss_discriminator(self, real, fake, batch_size):\n",
        "        adjacency_real, features_real = real\n",
        "        adjacency_fake, features_fake = fake\n",
        "\n",
        "        logits_real = self.discriminator([adjacency_real, features_real], training=True)\n",
        "        logits_fake = self.discriminator([adjacency_fake, features_fake], training=True)\n",
        "\n",
        "        logits_real = tf.clip_by_value(logits_real, -1e5, 1e5)  # 🔧 estabilidad\n",
        "        logits_fake = tf.clip_by_value(logits_fake, -1e5, 1e5)\n",
        "\n",
        "        wasserstein_loss = tf.reduce_mean(logits_fake) - tf.reduce_mean(logits_real)\n",
        "        gp = self._gradient_penalty(real, fake, batch_size)\n",
        "        return wasserstein_loss + self.gp_weight * gp\n",
        "\n",
        "    def _gradient_penalty(self, real, fake, batch_size):\n",
        "        adjacency_real, features_real = real\n",
        "        adjacency_fake, features_fake = fake\n",
        "\n",
        "        alpha = tf.random.uniform([batch_size, 1, 1, 1], 0.0, 1.0)\n",
        "        adjacency_interp = alpha * adjacency_real + (1 - alpha) * adjacency_fake\n",
        "\n",
        "        alpha_feat = tf.random.uniform([batch_size, 1, 1], 0.0, 1.0)\n",
        "        features_interp = alpha_feat * features_real + (1 - alpha_feat) * features_fake\n",
        "\n",
        "        with tf.GradientTape() as tape:\n",
        "            tape.watch([adjacency_interp, features_interp])\n",
        "            logits = self.discriminator([adjacency_interp, features_interp], training=True)\n",
        "\n",
        "        grads = tape.gradient(logits, [adjacency_interp, features_interp])\n",
        "        grad_adj = tf.reshape(grads[0], [batch_size, -1])\n",
        "        grad_feat = tf.reshape(grads[1], [batch_size, -1])\n",
        "\n",
        "        grad_norm_adj = tf.sqrt(tf.reduce_sum(tf.square(grad_adj), axis=1) + 1e-12)\n",
        "        grad_norm_feat = tf.sqrt(tf.reduce_sum(tf.square(grad_feat), axis=1) + 1e-12)\n",
        "\n",
        "        gp = tf.square(grad_norm_adj - 1.0) + tf.square(grad_norm_feat - 1.0)\n",
        "        return tf.reduce_mean(gp)"
      ]
    },
    {
      "cell_type": "markdown",
      "metadata": {
        "id": "4wg_7QVQGRNX"
      },
      "source": [
        "## Resultados del Entrenamiento\n",
        "El generador presentó una pérdida (loss_gen) oscilando entre -3 y +2.5, lo que indica cierto progreso en el aprendizaje.\n",
        "\n",
        "El discriminador se mantuvo relativamente estable, aunque con algunos picos ocasionales por encima de 100, lo cual es esperado en modelos GAN.\n",
        "\n",
        "Tras 20 épocas:\n",
        "Se generó únicamente 1 molécula válida.\n",
        "\n",
        "No se observó ninguna correlación evidente con la estructura de Telomerase-IN-2.\n",
        "\n",
        "Muchas salidas fueron None debido a fallos en la sanitización o problemas de conectividad en el grafo molecular.\n",
        "\n",
        "Tras 100 épocas:\n",
        "Solo se generaron 2 moléculas válidas.\n",
        "\n",
        "Tampoco se observó correlación con Telomerase-IN-2.\n",
        "\n",
        "Persistieron múltiples salidas inválidas (None) por errores en la representación estructural de los grafos.\n",
        "\n",
        "##Análisis Crítico\n",
        "A pesar de que el entrenamiento fue estable desde el punto de vista numérico, el modelo no logró generalizar adecuadamente hacia estructuras moleculares significativas. Se identificaron los siguientes factores limitantes:\n",
        "\n",
        "Dataset genérico: aunque se filtró un subconjunto de moléculas del dataset ZINC, muchas siguen siendo estructuralmente diferentes del objetivo (Telomerase-IN-2).\n",
        "\n",
        "Falta de guía: el modelo no cuenta con ninguna función de pérdida que incentive similitud o afinidad hacia Telomerase-IN-2.\n",
        "\n",
        "Ausencia de reconstrucción: al no utilizar un enfoque basado en VAE (Autoencoder Variacional) o similar, el modelo no se ve obligado a preservar información estructural relevante."
      ]
    },
    {
      "cell_type": "code",
      "execution_count": 12,
      "metadata": {
        "id": "Z_k5mS0WGRNX",
        "colab": {
          "base_uri": "https://localhost:8080/"
        },
        "outputId": "e6b83ae7-76f5-4c59-a0c0-b0250456c0a1"
      },
      "outputs": [
        {
          "output_type": "stream",
          "name": "stdout",
          "text": [
            "Epoch 1/100\n",
            "\u001b[1m763/763\u001b[0m \u001b[32m━━━━━━━━━━━━━━━━━━━━\u001b[0m\u001b[37m\u001b[0m \u001b[1m183s\u001b[0m 120ms/step - loss: 0.0000e+00 - loss_dis: 352684.3438 - loss_gen: 159.8510\n",
            "Epoch 2/100\n",
            "\u001b[1m763/763\u001b[0m \u001b[32m━━━━━━━━━━━━━━━━━━━━\u001b[0m\u001b[37m\u001b[0m \u001b[1m88s\u001b[0m 53ms/step - loss: 0.0000e+00 - loss_dis: 8.0539 - loss_gen: -0.5769\n",
            "Epoch 3/100\n",
            "\u001b[1m763/763\u001b[0m \u001b[32m━━━━━━━━━━━━━━━━━━━━\u001b[0m\u001b[37m\u001b[0m \u001b[1m40s\u001b[0m 51ms/step - loss: 0.0000e+00 - loss_dis: -0.0781 - loss_gen: -0.7668\n",
            "Epoch 4/100\n",
            "\u001b[1m763/763\u001b[0m \u001b[32m━━━━━━━━━━━━━━━━━━━━\u001b[0m\u001b[37m\u001b[0m \u001b[1m41s\u001b[0m 52ms/step - loss: 0.0000e+00 - loss_dis: 0.1583 - loss_gen: -0.9589\n",
            "Epoch 5/100\n",
            "\u001b[1m763/763\u001b[0m \u001b[32m━━━━━━━━━━━━━━━━━━━━\u001b[0m\u001b[37m\u001b[0m \u001b[1m39s\u001b[0m 51ms/step - loss: 0.0000e+00 - loss_dis: 0.1734 - loss_gen: -0.9592\n",
            "Epoch 6/100\n",
            "\u001b[1m763/763\u001b[0m \u001b[32m━━━━━━━━━━━━━━━━━━━━\u001b[0m\u001b[37m\u001b[0m \u001b[1m39s\u001b[0m 51ms/step - loss: 0.0000e+00 - loss_dis: 0.1304 - loss_gen: -1.2680\n",
            "Epoch 7/100\n",
            "\u001b[1m763/763\u001b[0m \u001b[32m━━━━━━━━━━━━━━━━━━━━\u001b[0m\u001b[37m\u001b[0m \u001b[1m41s\u001b[0m 51ms/step - loss: 0.0000e+00 - loss_dis: 0.1436 - loss_gen: -0.8208\n",
            "Epoch 8/100\n",
            "\u001b[1m763/763\u001b[0m \u001b[32m━━━━━━━━━━━━━━━━━━━━\u001b[0m\u001b[37m\u001b[0m \u001b[1m41s\u001b[0m 52ms/step - loss: 0.0000e+00 - loss_dis: 0.1720 - loss_gen: -0.7666\n",
            "Epoch 9/100\n",
            "\u001b[1m763/763\u001b[0m \u001b[32m━━━━━━━━━━━━━━━━━━━━\u001b[0m\u001b[37m\u001b[0m \u001b[1m42s\u001b[0m 53ms/step - loss: 0.0000e+00 - loss_dis: 1.5306 - loss_gen: 0.8022\n",
            "Epoch 10/100\n",
            "\u001b[1m763/763\u001b[0m \u001b[32m━━━━━━━━━━━━━━━━━━━━\u001b[0m\u001b[37m\u001b[0m \u001b[1m40s\u001b[0m 52ms/step - loss: 0.0000e+00 - loss_dis: 0.1920 - loss_gen: 1.8937\n",
            "Epoch 11/100\n",
            "\u001b[1m763/763\u001b[0m \u001b[32m━━━━━━━━━━━━━━━━━━━━\u001b[0m\u001b[37m\u001b[0m \u001b[1m39s\u001b[0m 52ms/step - loss: 0.0000e+00 - loss_dis: 0.1059 - loss_gen: 0.2108\n",
            "Epoch 12/100\n",
            "\u001b[1m763/763\u001b[0m \u001b[32m━━━━━━━━━━━━━━━━━━━━\u001b[0m\u001b[37m\u001b[0m \u001b[1m40s\u001b[0m 50ms/step - loss: 0.0000e+00 - loss_dis: 1.4253 - loss_gen: 1.0801\n",
            "Epoch 13/100\n",
            "\u001b[1m763/763\u001b[0m \u001b[32m━━━━━━━━━━━━━━━━━━━━\u001b[0m\u001b[37m\u001b[0m \u001b[1m42s\u001b[0m 52ms/step - loss: 0.0000e+00 - loss_dis: 0.2365 - loss_gen: 1.1889\n",
            "Epoch 14/100\n",
            "\u001b[1m763/763\u001b[0m \u001b[32m━━━━━━━━━━━━━━━━━━━━\u001b[0m\u001b[37m\u001b[0m \u001b[1m41s\u001b[0m 52ms/step - loss: 0.0000e+00 - loss_dis: 0.1768 - loss_gen: -0.0028\n",
            "Epoch 15/100\n",
            "\u001b[1m763/763\u001b[0m \u001b[32m━━━━━━━━━━━━━━━━━━━━\u001b[0m\u001b[37m\u001b[0m \u001b[1m41s\u001b[0m 52ms/step - loss: 0.0000e+00 - loss_dis: 0.1497 - loss_gen: -0.1696\n",
            "Epoch 16/100\n",
            "\u001b[1m763/763\u001b[0m \u001b[32m━━━━━━━━━━━━━━━━━━━━\u001b[0m\u001b[37m\u001b[0m \u001b[1m41s\u001b[0m 52ms/step - loss: 0.0000e+00 - loss_dis: 0.1974 - loss_gen: 0.2182\n",
            "Epoch 17/100\n",
            "\u001b[1m763/763\u001b[0m \u001b[32m━━━━━━━━━━━━━━━━━━━━\u001b[0m\u001b[37m\u001b[0m \u001b[1m41s\u001b[0m 52ms/step - loss: 0.0000e+00 - loss_dis: 0.0858 - loss_gen: -0.7376\n",
            "Epoch 18/100\n",
            "\u001b[1m763/763\u001b[0m \u001b[32m━━━━━━━━━━━━━━━━━━━━\u001b[0m\u001b[37m\u001b[0m \u001b[1m39s\u001b[0m 52ms/step - loss: 0.0000e+00 - loss_dis: 0.1784 - loss_gen: -0.4882\n",
            "Epoch 19/100\n",
            "\u001b[1m763/763\u001b[0m \u001b[32m━━━━━━━━━━━━━━━━━━━━\u001b[0m\u001b[37m\u001b[0m \u001b[1m41s\u001b[0m 52ms/step - loss: 0.0000e+00 - loss_dis: 0.0876 - loss_gen: -1.1946\n",
            "Epoch 20/100\n",
            "\u001b[1m763/763\u001b[0m \u001b[32m━━━━━━━━━━━━━━━━━━━━\u001b[0m\u001b[37m\u001b[0m \u001b[1m41s\u001b[0m 52ms/step - loss: 0.0000e+00 - loss_dis: 0.0150 - loss_gen: -2.3179\n",
            "Epoch 21/100\n",
            "\u001b[1m763/763\u001b[0m \u001b[32m━━━━━━━━━━━━━━━━━━━━\u001b[0m\u001b[37m\u001b[0m \u001b[1m41s\u001b[0m 52ms/step - loss: 0.0000e+00 - loss_dis: -0.0422 - loss_gen: -0.5790\n",
            "Epoch 22/100\n",
            "\u001b[1m763/763\u001b[0m \u001b[32m━━━━━━━━━━━━━━━━━━━━\u001b[0m\u001b[37m\u001b[0m \u001b[1m40s\u001b[0m 52ms/step - loss: 0.0000e+00 - loss_dis: 0.0151 - loss_gen: -0.9016\n",
            "Epoch 23/100\n",
            "\u001b[1m763/763\u001b[0m \u001b[32m━━━━━━━━━━━━━━━━━━━━\u001b[0m\u001b[37m\u001b[0m \u001b[1m40s\u001b[0m 52ms/step - loss: 0.0000e+00 - loss_dis: 0.0727 - loss_gen: -0.3959\n",
            "Epoch 24/100\n",
            "\u001b[1m763/763\u001b[0m \u001b[32m━━━━━━━━━━━━━━━━━━━━\u001b[0m\u001b[37m\u001b[0m \u001b[1m41s\u001b[0m 52ms/step - loss: 0.0000e+00 - loss_dis: 0.0217 - loss_gen: -1.2786\n",
            "Epoch 25/100\n",
            "\u001b[1m763/763\u001b[0m \u001b[32m━━━━━━━━━━━━━━━━━━━━\u001b[0m\u001b[37m\u001b[0m \u001b[1m40s\u001b[0m 52ms/step - loss: 0.0000e+00 - loss_dis: 0.1130 - loss_gen: -0.1810\n",
            "Epoch 26/100\n",
            "\u001b[1m763/763\u001b[0m \u001b[32m━━━━━━━━━━━━━━━━━━━━\u001b[0m\u001b[37m\u001b[0m \u001b[1m41s\u001b[0m 52ms/step - loss: 0.0000e+00 - loss_dis: 0.1125 - loss_gen: -0.2734\n",
            "Epoch 27/100\n",
            "\u001b[1m763/763\u001b[0m \u001b[32m━━━━━━━━━━━━━━━━━━━━\u001b[0m\u001b[37m\u001b[0m \u001b[1m40s\u001b[0m 52ms/step - loss: 0.0000e+00 - loss_dis: 0.0734 - loss_gen: -0.6504\n",
            "Epoch 28/100\n",
            "\u001b[1m763/763\u001b[0m \u001b[32m━━━━━━━━━━━━━━━━━━━━\u001b[0m\u001b[37m\u001b[0m \u001b[1m41s\u001b[0m 52ms/step - loss: 0.0000e+00 - loss_dis: 0.1209 - loss_gen: -0.3344\n",
            "Epoch 29/100\n",
            "\u001b[1m763/763\u001b[0m \u001b[32m━━━━━━━━━━━━━━━━━━━━\u001b[0m\u001b[37m\u001b[0m \u001b[1m40s\u001b[0m 52ms/step - loss: 0.0000e+00 - loss_dis: 1.0135 - loss_gen: 1.1284\n",
            "Epoch 30/100\n",
            "\u001b[1m763/763\u001b[0m \u001b[32m━━━━━━━━━━━━━━━━━━━━\u001b[0m\u001b[37m\u001b[0m \u001b[1m41s\u001b[0m 52ms/step - loss: 0.0000e+00 - loss_dis: 0.2693 - loss_gen: 2.6594\n",
            "Epoch 31/100\n",
            "\u001b[1m763/763\u001b[0m \u001b[32m━━━━━━━━━━━━━━━━━━━━\u001b[0m\u001b[37m\u001b[0m \u001b[1m41s\u001b[0m 52ms/step - loss: 0.0000e+00 - loss_dis: 0.1551 - loss_gen: 1.3055\n",
            "Epoch 32/100\n",
            "\u001b[1m763/763\u001b[0m \u001b[32m━━━━━━━━━━━━━━━━━━━━\u001b[0m\u001b[37m\u001b[0m \u001b[1m41s\u001b[0m 52ms/step - loss: 0.0000e+00 - loss_dis: 0.2527 - loss_gen: -1.3167\n",
            "Epoch 33/100\n",
            "\u001b[1m763/763\u001b[0m \u001b[32m━━━━━━━━━━━━━━━━━━━━\u001b[0m\u001b[37m\u001b[0m \u001b[1m40s\u001b[0m 51ms/step - loss: 0.0000e+00 - loss_dis: 1.9843 - loss_gen: -0.0609\n",
            "Epoch 34/100\n",
            "\u001b[1m763/763\u001b[0m \u001b[32m━━━━━━━━━━━━━━━━━━━━\u001b[0m\u001b[37m\u001b[0m \u001b[1m39s\u001b[0m 51ms/step - loss: 0.0000e+00 - loss_dis: 2.0018 - loss_gen: -0.0622\n",
            "Epoch 35/100\n",
            "\u001b[1m763/763\u001b[0m \u001b[32m━━━━━━━━━━━━━━━━━━━━\u001b[0m\u001b[37m\u001b[0m \u001b[1m41s\u001b[0m 51ms/step - loss: 0.0000e+00 - loss_dis: 1.9944 - loss_gen: -0.0608\n",
            "Epoch 36/100\n",
            "\u001b[1m763/763\u001b[0m \u001b[32m━━━━━━━━━━━━━━━━━━━━\u001b[0m\u001b[37m\u001b[0m \u001b[1m41s\u001b[0m 51ms/step - loss: 0.0000e+00 - loss_dis: 2.0055 - loss_gen: -0.1057\n",
            "Epoch 37/100\n",
            "\u001b[1m763/763\u001b[0m \u001b[32m━━━━━━━━━━━━━━━━━━━━\u001b[0m\u001b[37m\u001b[0m \u001b[1m39s\u001b[0m 51ms/step - loss: 0.0000e+00 - loss_dis: 1.9998 - loss_gen: -0.1108\n",
            "Epoch 38/100\n",
            "\u001b[1m763/763\u001b[0m \u001b[32m━━━━━━━━━━━━━━━━━━━━\u001b[0m\u001b[37m\u001b[0m \u001b[1m39s\u001b[0m 51ms/step - loss: 0.0000e+00 - loss_dis: 2.0250 - loss_gen: -0.1232\n",
            "Epoch 39/100\n",
            "\u001b[1m763/763\u001b[0m \u001b[32m━━━━━━━━━━━━━━━━━━━━\u001b[0m\u001b[37m\u001b[0m \u001b[1m39s\u001b[0m 51ms/step - loss: 0.0000e+00 - loss_dis: 2.1178 - loss_gen: -0.0327\n",
            "Epoch 40/100\n",
            "\u001b[1m763/763\u001b[0m \u001b[32m━━━━━━━━━━━━━━━━━━━━\u001b[0m\u001b[37m\u001b[0m \u001b[1m42s\u001b[0m 53ms/step - loss: 0.0000e+00 - loss_dis: 0.5725 - loss_gen: -0.5887\n",
            "Epoch 41/100\n",
            "\u001b[1m763/763\u001b[0m \u001b[32m━━━━━━━━━━━━━━━━━━━━\u001b[0m\u001b[37m\u001b[0m \u001b[1m39s\u001b[0m 52ms/step - loss: 0.0000e+00 - loss_dis: 1.1059 - loss_gen: -1.4827\n",
            "Epoch 42/100\n",
            "\u001b[1m763/763\u001b[0m \u001b[32m━━━━━━━━━━━━━━━━━━━━\u001b[0m\u001b[37m\u001b[0m \u001b[1m41s\u001b[0m 52ms/step - loss: 0.0000e+00 - loss_dis: 1.6276 - loss_gen: -0.7007\n",
            "Epoch 43/100\n",
            "\u001b[1m763/763\u001b[0m \u001b[32m━━━━━━━━━━━━━━━━━━━━\u001b[0m\u001b[37m\u001b[0m \u001b[1m41s\u001b[0m 52ms/step - loss: 0.0000e+00 - loss_dis: 0.9336 - loss_gen: -2.0680\n",
            "Epoch 44/100\n",
            "\u001b[1m763/763\u001b[0m \u001b[32m━━━━━━━━━━━━━━━━━━━━\u001b[0m\u001b[37m\u001b[0m \u001b[1m41s\u001b[0m 52ms/step - loss: 0.0000e+00 - loss_dis: 1.7135 - loss_gen: -0.6216\n",
            "Epoch 45/100\n",
            "\u001b[1m763/763\u001b[0m \u001b[32m━━━━━━━━━━━━━━━━━━━━\u001b[0m\u001b[37m\u001b[0m \u001b[1m41s\u001b[0m 51ms/step - loss: 0.0000e+00 - loss_dis: 1.9162 - loss_gen: -0.1669\n",
            "Epoch 46/100\n",
            "\u001b[1m763/763\u001b[0m \u001b[32m━━━━━━━━━━━━━━━━━━━━\u001b[0m\u001b[37m\u001b[0m \u001b[1m42s\u001b[0m 52ms/step - loss: 0.0000e+00 - loss_dis: 1.4469 - loss_gen: -1.0187\n",
            "Epoch 47/100\n",
            "\u001b[1m763/763\u001b[0m \u001b[32m━━━━━━━━━━━━━━━━━━━━\u001b[0m\u001b[37m\u001b[0m \u001b[1m41s\u001b[0m 52ms/step - loss: 0.0000e+00 - loss_dis: 1.5511 - loss_gen: -1.3608\n",
            "Epoch 48/100\n",
            "\u001b[1m763/763\u001b[0m \u001b[32m━━━━━━━━━━━━━━━━━━━━\u001b[0m\u001b[37m\u001b[0m \u001b[1m39s\u001b[0m 51ms/step - loss: 0.0000e+00 - loss_dis: 0.7907 - loss_gen: -1.7005\n",
            "Epoch 49/100\n",
            "\u001b[1m763/763\u001b[0m \u001b[32m━━━━━━━━━━━━━━━━━━━━\u001b[0m\u001b[37m\u001b[0m \u001b[1m41s\u001b[0m 52ms/step - loss: 0.0000e+00 - loss_dis: 1.5725 - loss_gen: -0.5620\n",
            "Epoch 50/100\n",
            "\u001b[1m763/763\u001b[0m \u001b[32m━━━━━━━━━━━━━━━━━━━━\u001b[0m\u001b[37m\u001b[0m \u001b[1m39s\u001b[0m 51ms/step - loss: 0.0000e+00 - loss_dis: 1.9773 - loss_gen: -0.0245\n",
            "Epoch 51/100\n",
            "\u001b[1m763/763\u001b[0m \u001b[32m━━━━━━━━━━━━━━━━━━━━\u001b[0m\u001b[37m\u001b[0m \u001b[1m39s\u001b[0m 51ms/step - loss: 0.0000e+00 - loss_dis: 1.9739 - loss_gen: -0.0708\n",
            "Epoch 52/100\n",
            "\u001b[1m763/763\u001b[0m \u001b[32m━━━━━━━━━━━━━━━━━━━━\u001b[0m\u001b[37m\u001b[0m \u001b[1m41s\u001b[0m 51ms/step - loss: 0.0000e+00 - loss_dis: 1.9292 - loss_gen: 0.0044\n",
            "Epoch 53/100\n",
            "\u001b[1m763/763\u001b[0m \u001b[32m━━━━━━━━━━━━━━━━━━━━\u001b[0m\u001b[37m\u001b[0m \u001b[1m41s\u001b[0m 52ms/step - loss: 0.0000e+00 - loss_dis: 1.3985 - loss_gen: 0.6598\n",
            "Epoch 54/100\n",
            "\u001b[1m763/763\u001b[0m \u001b[32m━━━━━━━━━━━━━━━━━━━━\u001b[0m\u001b[37m\u001b[0m \u001b[1m39s\u001b[0m 52ms/step - loss: 0.0000e+00 - loss_dis: 1.5668 - loss_gen: 0.3978\n",
            "Epoch 55/100\n",
            "\u001b[1m763/763\u001b[0m \u001b[32m━━━━━━━━━━━━━━━━━━━━\u001b[0m\u001b[37m\u001b[0m \u001b[1m40s\u001b[0m 53ms/step - loss: 0.0000e+00 - loss_dis: 0.4581 - loss_gen: 2.0165\n",
            "Epoch 56/100\n",
            "\u001b[1m763/763\u001b[0m \u001b[32m━━━━━━━━━━━━━━━━━━━━\u001b[0m\u001b[37m\u001b[0m \u001b[1m40s\u001b[0m 52ms/step - loss: 0.0000e+00 - loss_dis: 0.5076 - loss_gen: 1.9972\n",
            "Epoch 57/100\n",
            "\u001b[1m763/763\u001b[0m \u001b[32m━━━━━━━━━━━━━━━━━━━━\u001b[0m\u001b[37m\u001b[0m \u001b[1m39s\u001b[0m 51ms/step - loss: 0.0000e+00 - loss_dis: 1.2613 - loss_gen: 0.8960\n",
            "Epoch 58/100\n",
            "\u001b[1m763/763\u001b[0m \u001b[32m━━━━━━━━━━━━━━━━━━━━\u001b[0m\u001b[37m\u001b[0m \u001b[1m39s\u001b[0m 51ms/step - loss: 0.0000e+00 - loss_dis: 1.9300 - loss_gen: 0.0373\n",
            "Epoch 59/100\n",
            "\u001b[1m763/763\u001b[0m \u001b[32m━━━━━━━━━━━━━━━━━━━━\u001b[0m\u001b[37m\u001b[0m \u001b[1m40s\u001b[0m 52ms/step - loss: 0.0000e+00 - loss_dis: 0.5745 - loss_gen: 1.5989\n",
            "Epoch 60/100\n",
            "\u001b[1m763/763\u001b[0m \u001b[32m━━━━━━━━━━━━━━━━━━━━\u001b[0m\u001b[37m\u001b[0m \u001b[1m41s\u001b[0m 52ms/step - loss: 0.0000e+00 - loss_dis: 0.2028 - loss_gen: 2.2621\n",
            "Epoch 61/100\n",
            "\u001b[1m763/763\u001b[0m \u001b[32m━━━━━━━━━━━━━━━━━━━━\u001b[0m\u001b[37m\u001b[0m \u001b[1m41s\u001b[0m 52ms/step - loss: 0.0000e+00 - loss_dis: 0.8157 - loss_gen: 1.6968\n",
            "Epoch 62/100\n",
            "\u001b[1m763/763\u001b[0m \u001b[32m━━━━━━━━━━━━━━━━━━━━\u001b[0m\u001b[37m\u001b[0m \u001b[1m40s\u001b[0m 52ms/step - loss: 0.0000e+00 - loss_dis: 1.0645 - loss_gen: 0.9389\n",
            "Epoch 63/100\n",
            "\u001b[1m763/763\u001b[0m \u001b[32m━━━━━━━━━━━━━━━━━━━━\u001b[0m\u001b[37m\u001b[0m \u001b[1m41s\u001b[0m 52ms/step - loss: 0.0000e+00 - loss_dis: 0.1951 - loss_gen: 2.3541\n",
            "Epoch 64/100\n",
            "\u001b[1m763/763\u001b[0m \u001b[32m━━━━━━━━━━━━━━━━━━━━\u001b[0m\u001b[37m\u001b[0m \u001b[1m41s\u001b[0m 52ms/step - loss: 0.0000e+00 - loss_dis: 1.1292 - loss_gen: 1.8560\n",
            "Epoch 65/100\n",
            "\u001b[1m763/763\u001b[0m \u001b[32m━━━━━━━━━━━━━━━━━━━━\u001b[0m\u001b[37m\u001b[0m \u001b[1m41s\u001b[0m 52ms/step - loss: 0.0000e+00 - loss_dis: 0.4770 - loss_gen: 2.5254\n",
            "Epoch 66/100\n",
            "\u001b[1m763/763\u001b[0m \u001b[32m━━━━━━━━━━━━━━━━━━━━\u001b[0m\u001b[37m\u001b[0m \u001b[1m41s\u001b[0m 52ms/step - loss: 0.0000e+00 - loss_dis: 0.1064 - loss_gen: 2.0572\n",
            "Epoch 67/100\n",
            "\u001b[1m763/763\u001b[0m \u001b[32m━━━━━━━━━━━━━━━━━━━━\u001b[0m\u001b[37m\u001b[0m \u001b[1m41s\u001b[0m 52ms/step - loss: 0.0000e+00 - loss_dis: 0.1540 - loss_gen: -0.7073\n",
            "Epoch 68/100\n",
            "\u001b[1m763/763\u001b[0m \u001b[32m━━━━━━━━━━━━━━━━━━━━\u001b[0m\u001b[37m\u001b[0m \u001b[1m41s\u001b[0m 52ms/step - loss: 0.0000e+00 - loss_dis: 0.0389 - loss_gen: -0.4612\n",
            "Epoch 69/100\n",
            "\u001b[1m763/763\u001b[0m \u001b[32m━━━━━━━━━━━━━━━━━━━━\u001b[0m\u001b[37m\u001b[0m \u001b[1m41s\u001b[0m 52ms/step - loss: 0.0000e+00 - loss_dis: 0.0632 - loss_gen: -0.3108\n",
            "Epoch 70/100\n",
            "\u001b[1m763/763\u001b[0m \u001b[32m━━━━━━━━━━━━━━━━━━━━\u001b[0m\u001b[37m\u001b[0m \u001b[1m41s\u001b[0m 53ms/step - loss: 0.0000e+00 - loss_dis: 0.1131 - loss_gen: -0.6546\n",
            "Epoch 71/100\n",
            "\u001b[1m763/763\u001b[0m \u001b[32m━━━━━━━━━━━━━━━━━━━━\u001b[0m\u001b[37m\u001b[0m \u001b[1m41s\u001b[0m 52ms/step - loss: 0.0000e+00 - loss_dis: 0.0520 - loss_gen: -0.1439\n",
            "Epoch 72/100\n",
            "\u001b[1m763/763\u001b[0m \u001b[32m━━━━━━━━━━━━━━━━━━━━\u001b[0m\u001b[37m\u001b[0m \u001b[1m40s\u001b[0m 52ms/step - loss: 0.0000e+00 - loss_dis: 0.2019 - loss_gen: 0.9213\n",
            "Epoch 73/100\n",
            "\u001b[1m763/763\u001b[0m \u001b[32m━━━━━━━━━━━━━━━━━━━━\u001b[0m\u001b[37m\u001b[0m \u001b[1m40s\u001b[0m 52ms/step - loss: 0.0000e+00 - loss_dis: 0.1204 - loss_gen: 0.5040\n",
            "Epoch 74/100\n",
            "\u001b[1m763/763\u001b[0m \u001b[32m━━━━━━━━━━━━━━━━━━━━\u001b[0m\u001b[37m\u001b[0m \u001b[1m41s\u001b[0m 52ms/step - loss: 0.0000e+00 - loss_dis: 0.0672 - loss_gen: 0.5564\n",
            "Epoch 75/100\n",
            "\u001b[1m763/763\u001b[0m \u001b[32m━━━━━━━━━━━━━━━━━━━━\u001b[0m\u001b[37m\u001b[0m \u001b[1m41s\u001b[0m 53ms/step - loss: 0.0000e+00 - loss_dis: 0.0620 - loss_gen: -0.0772\n",
            "Epoch 76/100\n",
            "\u001b[1m763/763\u001b[0m \u001b[32m━━━━━━━━━━━━━━━━━━━━\u001b[0m\u001b[37m\u001b[0m \u001b[1m41s\u001b[0m 52ms/step - loss: 0.0000e+00 - loss_dis: 0.0715 - loss_gen: 0.3330\n",
            "Epoch 77/100\n",
            "\u001b[1m763/763\u001b[0m \u001b[32m━━━━━━━━━━━━━━━━━━━━\u001b[0m\u001b[37m\u001b[0m \u001b[1m41s\u001b[0m 52ms/step - loss: 0.0000e+00 - loss_dis: 0.1053 - loss_gen: -1.8820\n",
            "Epoch 78/100\n",
            "\u001b[1m763/763\u001b[0m \u001b[32m━━━━━━━━━━━━━━━━━━━━\u001b[0m\u001b[37m\u001b[0m \u001b[1m40s\u001b[0m 53ms/step - loss: 0.0000e+00 - loss_dis: 0.1116 - loss_gen: 1.6921\n",
            "Epoch 79/100\n",
            "\u001b[1m763/763\u001b[0m \u001b[32m━━━━━━━━━━━━━━━━━━━━\u001b[0m\u001b[37m\u001b[0m \u001b[1m40s\u001b[0m 52ms/step - loss: 0.0000e+00 - loss_dis: 0.1381 - loss_gen: 0.2373\n",
            "Epoch 80/100\n",
            "\u001b[1m763/763\u001b[0m \u001b[32m━━━━━━━━━━━━━━━━━━━━\u001b[0m\u001b[37m\u001b[0m \u001b[1m41s\u001b[0m 52ms/step - loss: 0.0000e+00 - loss_dis: 0.1484 - loss_gen: 0.4175\n",
            "Epoch 81/100\n",
            "\u001b[1m763/763\u001b[0m \u001b[32m━━━━━━━━━━━━━━━━━━━━\u001b[0m\u001b[37m\u001b[0m \u001b[1m41s\u001b[0m 52ms/step - loss: 0.0000e+00 - loss_dis: 0.1320 - loss_gen: -0.4712\n",
            "Epoch 82/100\n",
            "\u001b[1m763/763\u001b[0m \u001b[32m━━━━━━━━━━━━━━━━━━━━\u001b[0m\u001b[37m\u001b[0m \u001b[1m40s\u001b[0m 52ms/step - loss: 0.0000e+00 - loss_dis: 0.1382 - loss_gen: -1.4283\n",
            "Epoch 83/100\n",
            "\u001b[1m763/763\u001b[0m \u001b[32m━━━━━━━━━━━━━━━━━━━━\u001b[0m\u001b[37m\u001b[0m \u001b[1m41s\u001b[0m 52ms/step - loss: 0.0000e+00 - loss_dis: 0.1422 - loss_gen: 0.8688\n",
            "Epoch 84/100\n",
            "\u001b[1m763/763\u001b[0m \u001b[32m━━━━━━━━━━━━━━━━━━━━\u001b[0m\u001b[37m\u001b[0m \u001b[1m41s\u001b[0m 52ms/step - loss: 0.0000e+00 - loss_dis: 0.1385 - loss_gen: 0.3749\n",
            "Epoch 85/100\n",
            "\u001b[1m763/763\u001b[0m \u001b[32m━━━━━━━━━━━━━━━━━━━━\u001b[0m\u001b[37m\u001b[0m \u001b[1m41s\u001b[0m 52ms/step - loss: 0.0000e+00 - loss_dis: 8.9546 - loss_gen: 0.5047\n",
            "Epoch 86/100\n",
            "\u001b[1m763/763\u001b[0m \u001b[32m━━━━━━━━━━━━━━━━━━━━\u001b[0m\u001b[37m\u001b[0m \u001b[1m40s\u001b[0m 52ms/step - loss: 0.0000e+00 - loss_dis: 0.1036 - loss_gen: -0.6814\n",
            "Epoch 87/100\n",
            "\u001b[1m763/763\u001b[0m \u001b[32m━━━━━━━━━━━━━━━━━━━━\u001b[0m\u001b[37m\u001b[0m \u001b[1m41s\u001b[0m 52ms/step - loss: 0.0000e+00 - loss_dis: 0.1242 - loss_gen: 0.9032\n",
            "Epoch 88/100\n",
            "\u001b[1m763/763\u001b[0m \u001b[32m━━━━━━━━━━━━━━━━━━━━\u001b[0m\u001b[37m\u001b[0m \u001b[1m41s\u001b[0m 52ms/step - loss: 0.0000e+00 - loss_dis: 0.1223 - loss_gen: 0.0540\n",
            "Epoch 89/100\n",
            "\u001b[1m763/763\u001b[0m \u001b[32m━━━━━━━━━━━━━━━━━━━━\u001b[0m\u001b[37m\u001b[0m \u001b[1m41s\u001b[0m 53ms/step - loss: 0.0000e+00 - loss_dis: 0.1152 - loss_gen: 0.7333\n",
            "Epoch 90/100\n",
            "\u001b[1m763/763\u001b[0m \u001b[32m━━━━━━━━━━━━━━━━━━━━\u001b[0m\u001b[37m\u001b[0m \u001b[1m41s\u001b[0m 52ms/step - loss: 0.0000e+00 - loss_dis: 0.1317 - loss_gen: -1.4708\n",
            "Epoch 91/100\n",
            "\u001b[1m763/763\u001b[0m \u001b[32m━━━━━━━━━━━━━━━━━━━━\u001b[0m\u001b[37m\u001b[0m \u001b[1m40s\u001b[0m 52ms/step - loss: 0.0000e+00 - loss_dis: 0.1462 - loss_gen: 0.3280\n",
            "Epoch 92/100\n",
            "\u001b[1m763/763\u001b[0m \u001b[32m━━━━━━━━━━━━━━━━━━━━\u001b[0m\u001b[37m\u001b[0m \u001b[1m41s\u001b[0m 52ms/step - loss: 0.0000e+00 - loss_dis: 0.0703 - loss_gen: 0.4515\n",
            "Epoch 93/100\n",
            "\u001b[1m763/763\u001b[0m \u001b[32m━━━━━━━━━━━━━━━━━━━━\u001b[0m\u001b[37m\u001b[0m \u001b[1m40s\u001b[0m 52ms/step - loss: 0.0000e+00 - loss_dis: 0.1075 - loss_gen: -0.8717\n",
            "Epoch 94/100\n",
            "\u001b[1m763/763\u001b[0m \u001b[32m━━━━━━━━━━━━━━━━━━━━\u001b[0m\u001b[37m\u001b[0m \u001b[1m40s\u001b[0m 52ms/step - loss: 0.0000e+00 - loss_dis: 0.1339 - loss_gen: -1.4212\n",
            "Epoch 95/100\n",
            "\u001b[1m763/763\u001b[0m \u001b[32m━━━━━━━━━━━━━━━━━━━━\u001b[0m\u001b[37m\u001b[0m \u001b[1m41s\u001b[0m 52ms/step - loss: 0.0000e+00 - loss_dis: 0.2309 - loss_gen: -0.0689\n",
            "Epoch 96/100\n",
            "\u001b[1m763/763\u001b[0m \u001b[32m━━━━━━━━━━━━━━━━━━━━\u001b[0m\u001b[37m\u001b[0m \u001b[1m40s\u001b[0m 53ms/step - loss: 0.0000e+00 - loss_dis: 0.1114 - loss_gen: -0.2444\n",
            "Epoch 97/100\n",
            "\u001b[1m763/763\u001b[0m \u001b[32m━━━━━━━━━━━━━━━━━━━━\u001b[0m\u001b[37m\u001b[0m \u001b[1m40s\u001b[0m 52ms/step - loss: 0.0000e+00 - loss_dis: 0.1428 - loss_gen: -0.3635\n",
            "Epoch 98/100\n",
            "\u001b[1m763/763\u001b[0m \u001b[32m━━━━━━━━━━━━━━━━━━━━\u001b[0m\u001b[37m\u001b[0m \u001b[1m41s\u001b[0m 52ms/step - loss: 0.0000e+00 - loss_dis: 0.1383 - loss_gen: 0.0199\n",
            "Epoch 99/100\n",
            "\u001b[1m763/763\u001b[0m \u001b[32m━━━━━━━━━━━━━━━━━━━━\u001b[0m\u001b[37m\u001b[0m \u001b[1m41s\u001b[0m 52ms/step - loss: 0.0000e+00 - loss_dis: 0.1224 - loss_gen: 0.7093\n",
            "Epoch 100/100\n",
            "\u001b[1m763/763\u001b[0m \u001b[32m━━━━━━━━━━━━━━━━━━━━\u001b[0m\u001b[37m\u001b[0m \u001b[1m41s\u001b[0m 53ms/step - loss: 0.0000e+00 - loss_dis: 0.0677 - loss_gen: -0.1094\n"
          ]
        }
      ],
      "source": [
        "with tf.device(\"/GPU:0\"):\n",
        "    wgan = GraphWGAN(generator, discriminator, discriminator_steps=5)\n",
        "\n",
        "    wgan.compile(\n",
        "        optimizer_generator=keras.optimizers.Adam(1e-4, beta_1=0.5, beta_2=0.9),\n",
        "        optimizer_discriminator=keras.optimizers.Adam(1e-4, beta_1=0.5, beta_2=0.9),\n",
        "    )\n",
        "\n",
        "    # ✅ Aquí usamos una TUPLA\n",
        "    wgan.fit(\n",
        "        (adjacency_tensor, feature_tensor),\n",
        "        epochs=100,\n",
        "        batch_size=16\n",
        "    )"
      ]
    },
    {
      "cell_type": "markdown",
      "metadata": {
        "id": "pOJJ4PDRGRNX"
      },
      "source": [
        "## Sample novel molecules with the generator"
      ]
    },
    {
      "cell_type": "code",
      "execution_count": 26,
      "metadata": {
        "id": "MbFE_OYuGRNX",
        "colab": {
          "base_uri": "https://localhost:8080/",
          "height": 222
        },
        "outputId": "0c7465b4-98da-434d-dea5-c0e4223845dc"
      },
      "outputs": [
        {
          "output_type": "stream",
          "name": "stdout",
          "text": [
            "\u001b[1m2/2\u001b[0m \u001b[32m━━━━━━━━━━━━━━━━━━━━\u001b[0m\u001b[37m\u001b[0m \u001b[1m0s\u001b[0m 20ms/step\n",
            "[None, None, None, None, None, None, None, None, None, None, None, None, None, None, None, None, None, None, None, None, None, None, None, None, None, None, None, None, None, None, None, None, None, None, None, <rdkit.Chem.rdchem.RWMol object at 0x78a01547a7f0>, None, None, None, None, None, None, None, None, None, None, None, None]\n"
          ]
        },
        {
          "output_type": "execute_result",
          "data": {
            "image/png": "[encoded data removed]",
            "text/plain": [
              "<IPython.core.display.Image object>"
            ]
          },
          "metadata": {},
          "execution_count": 26
        }
      ],
      "source": [
        "def sample(generator, batch_size):\n",
        "    z = tf.random.normal((batch_size, LATENT_DIM))\n",
        "    graph = generator.predict(z)\n",
        "\n",
        "    adjacency_raw = tf.argmax(graph[0], axis=1)\n",
        "    features_raw = tf.argmax(graph[1], axis=2)\n",
        "\n",
        "    # One-hot encodings\n",
        "    adjacency = tf.one_hot(adjacency_raw, depth=BOND_DIM, axis=1)\n",
        "    adjacency = tf.linalg.set_diag(adjacency, tf.zeros(tf.shape(adjacency)[:-1]))\n",
        "    features = tf.one_hot(features_raw, depth=ATOM_DIM, axis=2)\n",
        "\n",
        "    return [\n",
        "        graph_to_molecule([adjacency[i].numpy(), features[i].numpy()])\n",
        "        for i in range(batch_size)\n",
        "    ]\n",
        "molecules = sample(wgan.generator, batch_size=48)\n",
        "print(molecules)\n",
        "MolsToGridImage(\n",
        "    [m for m in molecules if m is not None][:25], molsPerRow=5, subImgSize=(150, 150)\n",
        ")"
      ]
    },
    {
      "cell_type": "markdown",
      "metadata": {
        "id": "U_NUZ4ifGRNX"
      },
      "source": [
        "# Recomendaciones y Siguientes Pasos\n",
        "A partir del análisis de resultados, se proponen las siguientes estrategias para mejorar la calidad y relevancia de las moléculas generadas:\n",
        "\n",
        "##1. Reentrenamiento Dirigido\n",
        "Buscar análogos estructurales de Telomerase-IN-2 en bases de datos como ZINC o ChEMBL.\n",
        "\n",
        "Aplicar filtros por similitud de Tanimoto > 0.7 para asegurar cercanía estructural.\n",
        "\n",
        "Seleccionar moléculas con motivos estructurales comunes (por ejemplo, grupos funcionales, anillos aromáticos compartidos).\n",
        "\n",
        "##2. Modelos Alternativos\n",
        "Implementar un GraphVAE o Junction Tree VAE (JTVAE), que permiten:\n",
        "\n",
        "Reconstrucción estructural.\n",
        "\n",
        "Preservación de conectividad química válida.\n",
        "\n",
        "Incluir un módulo de aprendizaje por refuerzo que optimice propiedades deseadas como:\n",
        "\n",
        "QED (Drug-likeness)\n",
        "\n",
        "Docking score\n",
        "\n",
        "Reglas de Lipinski.\n",
        "\n",
        "##3. Evaluación Automática\n",
        "Incorporar métricas periódicas de calidad para cada bloque de épocas:\n",
        "\n",
        "Validez: porcentaje de moléculas químicamente válidas.\n",
        "\n",
        "Unicidad: proporción de moléculas no duplicadas.\n",
        "\n",
        "Similitud estructural: distancia respecto a Telomerase-IN-2 (e.g., Tanimoto).\n",
        "\n",
        "| Trained Model | Demo |\n",
        "| :--: | :--: |\n",
        "| [![Generic badge](https://img.shields.io/badge/%F0%9F%A4%97%20Model-wgan%20graphs-black.svg)](https://huggingface.co/keras-io/wgan-molecular-graphs) | [![Generic badge](https://img.shields.io/badge/%F0%9F%A4%97%20Spaces-wgan%20graphs-black.svg)](https://huggingface.co/spaces/keras-io/Generating-molecular-graphs-by-WGAN-GP) |"
      ]
    }
  ],
  "metadata": {
    "accelerator": "GPU",
    "colab": {
      "provenance": []
    },
    "kernelspec": {
      "display_name": "Python 3",
      "language": "python",
      "name": "python3"
    },
    "language_info": {
      "codemirror_mode": {
        "name": "ipython",
        "version": 3
      },
      "file_extension": ".py",
      "mimetype": "text/x-python",
      "name": "python",
      "nbconvert_exporter": "python",
      "pygments_lexer": "ipython3",
      "version": "3.7.0"
    }
  },
  "nbformat": 4,
  "nbformat_minor": 0
}