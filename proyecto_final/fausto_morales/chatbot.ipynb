{
 "cells": [
  {
   "cell_type": "markdown",
   "metadata": {},
   "source": [
    "<h1>Creación de un pequeño agente chatbot con Deepseek en MAC</h1>\n",
    "<h3>como Proyecto final de Fausto Morales </h3>\n",
    "<h3><ffmogbaj/h3>"
   ]
  },
  {
   "cell_type": "markdown",
   "metadata": {},
   "source": [
    "Debemos de instalar varias herramientas, como Ollama.\n",
    "\n",
    "Los pasos de instalación se encuentran en: https://ollama.com/download"
   ]
  },
  {
   "cell_type": "markdown",
   "metadata": {},
   "source": [
    "Una vez instalado descargamos localmente el modelo de deepseek: https://ollama.com/library/deepseek-r1"
   ]
  },
  {
   "cell_type": "markdown",
   "metadata": {},
   "source": [
    "Y debido a que nuestra computadora es pequeña escogemos el modelo más chico: DeepSeek-R1-Distill-Qwen-1.5B\n",
    "\n",
    "Y usamos el comando en la terminal para instalarlo:\n",
    "```bash\n",
    "ollama run deepseek-r1:1.5b\n",
    "```\n",
    "\n",
    "También instalamos complementos para poder ejecutar el código de este notebook:\n",
    "```bash\n",
    "brew install poppler\n",
    "brew install tesseract\n",
    "```\n",
    "\n",
    "También añadimos la siguiente configuración en el bash:\n",
    "```bash\n",
    "nano ~/.zshrc\n",
    "```\n",
    "Colocamos\n",
    "```bash\n",
    "export OCR_AGENT=\"unstructured.partition.utils.ocr_models.tesseract_ocr.OCRAgentTesseract\"\n",
    "```\n",
    "\n",
    "E instalamos los paquetes de python:\n",
    "```python\n",
    "pip install ollama langchain chromadb gradio pdfminer langchain_chroma \n",
    "pip install -U langchain-community unstructured\n",
    "pip install pdfminer.six pi_heif unstructured_inference pdf2image python-dateutil pytesseract unstructured_pytesseract \n",
    "```\n"
   ]
  },
  {
   "cell_type": "code",
   "execution_count": 1,
   "metadata": {},
   "outputs": [
    {
     "name": "stderr",
     "output_type": "stream",
     "text": [
      "/Users/fau/venv-metal/lib/python3.9/site-packages/urllib3/__init__.py:35: NotOpenSSLWarning: urllib3 v2 only supports OpenSSL 1.1.1+, currently the 'ssl' module is compiled with 'LibreSSL 2.8.3'. See: https://github.com/urllib3/urllib3/issues/3020\n",
      "  warnings.warn(\n"
     ]
    },
    {
     "name": "stdout",
     "output_type": "stream",
     "text": [
      "Running on local URL:  http://127.0.0.1:7860\n",
      "\n",
      "To create a public link, set `share=True` in `launch()`.\n"
     ]
    },
    {
     "data": {
      "text/html": [
       "<div><iframe src=\"http://127.0.0.1:7860/\" width=\"100%\" height=\"500\" allow=\"autoplay; camera; microphone; clipboard-read; clipboard-write;\" frameborder=\"0\" allowfullscreen></iframe></div>"
      ],
      "text/plain": [
       "<IPython.core.display.HTML object>"
      ]
     },
     "metadata": {},
     "output_type": "display_data"
    },
    {
     "data": {
      "text/plain": []
     },
     "execution_count": 1,
     "metadata": {},
     "output_type": "execute_result"
    }
   ],
   "source": [
    "import ollama\n",
    "import re\n",
    "import gradio as gr\n",
    "\n",
    "# Nombre del modelo que tienes corriendo\n",
    "model_name = \"deepseek-r1:1.5b\"\n",
    "\n",
    "# Función para generar una respuesta usando el modelo\n",
    "def generate_text(prompt):\n",
    "    # Usar la función 'chat' para interactuar con el modelo\n",
    "    response = ollama.chat(model=model_name, messages=[{\"role\": \"user\", \"content\": prompt}])\n",
    "    cleaned_response = re.sub(r'<think>.*?</think>', '', response['message']['content'], flags=re.DOTALL).strip()\n",
    "    # Imprimir la respuesta completa para ver su estructura\n",
    "    print(\"Respuesta completa del modelo:\", response)    \n",
    "    # Acceder al contenido correcto dependiendo de la estructura de la respuesta\n",
    "    return cleaned_response  # Ajusta esto según la estructura de la respuesta\n",
    "\n",
    "# Crear la interfaz\n",
    "interface = gr.Interface(fn=generate_text, inputs=\"text\", outputs=\"text\")\n",
    "# Lanzar la interfaz\n",
    "interface.launch()\n"
   ]
  },
  {
   "cell_type": "markdown",
   "metadata": {},
   "source": [
    "Resultado ejemplo:\n",
    "<img src=\"./img/Result model 1.png\" alt=\"Imagen de ejemplo\" width=\"800\">\n"
   ]
  },
  {
   "cell_type": "markdown",
   "metadata": {},
   "source": [
    "Mejora: Realizar IA generativa con RAG (Generación aumentada por recuperación).\n",
    "\n",
    "Ejemplo: cargando un PDF con la página de wikipedia de condusef con embeddings (vectores).\n",
    "\n",
    "Se descargo del siguiente URL: https://es.wikipedia.org/w/index.php?title=Especial:DownloadAsPdf&page=Comisión_Nacional_para_la_Protección_y_Defensa_de_los_Usuarios_de_Servicios_Financieros&action=show-download-screen\n",
    " y se colocó en el path del notebook."
   ]
  },
  {
   "cell_type": "markdown",
   "metadata": {},
   "source": [
    "<img src=\"https://cdn.getmidnight.com/171293841d3fdd4af2e12426ce202ac9/2024/02/User-Query-1.png\" alt=\"Captura de pantalla\" style=\"zoom:25%;\" />\n"
   ]
  },
  {
   "cell_type": "code",
   "execution_count": 2,
   "metadata": {},
   "outputs": [],
   "source": [
    "# Imports\n",
    "from langchain_community.document_loaders import UnstructuredPDFLoader\n",
    "from langchain_ollama import OllamaEmbeddings\n",
    "from langchain_text_splitters import RecursiveCharacterTextSplitter\n",
    "from langchain_community.vectorstores import Chroma\n",
    "from langchain.prompts import ChatPromptTemplate, PromptTemplate\n",
    "from langchain_core.output_parsers import StrOutputParser\n",
    "from langchain_ollama.chat_models import ChatOllama\n",
    "from langchain_core.runnables import RunnablePassthrough\n",
    "from langchain.retrievers.multi_query import MultiQueryRetriever\n",
    "\n",
    "# Suppress warnings\n",
    "import warnings\n",
    "warnings.filterwarnings('ignore')\n",
    "\n",
    "# Jupyter-specific imports\n",
    "from IPython.display import display, Markdown\n",
    "\n",
    "# Set environment variable for protobuf\n",
    "import os\n",
    "os.environ[\"PROTOCOL_BUFFERS_PYTHON_IMPLEMENTATION\"] = \"python\""
   ]
  },
  {
   "cell_type": "code",
   "execution_count": 3,
   "metadata": {},
   "outputs": [
    {
     "name": "stdout",
     "output_type": "stream",
     "text": [
      "PDF loaded successfully: ./pdf/1.pdf\n",
      "Text split into 4 chunks\n",
      "Vector database created successfully\n",
      "Running on local URL:  http://127.0.0.1:7861\n",
      "\n",
      "To create a public link, set `share=True` in `launch()`.\n"
     ]
    },
    {
     "data": {
      "text/html": [
       "<div><iframe src=\"http://127.0.0.1:7861/\" width=\"100%\" height=\"500\" allow=\"autoplay; camera; microphone; clipboard-read; clipboard-write;\" frameborder=\"0\" allowfullscreen></iframe></div>"
      ],
      "text/plain": [
       "<IPython.core.display.HTML object>"
      ]
     },
     "metadata": {},
     "output_type": "display_data"
    },
    {
     "data": {
      "text/plain": []
     },
     "execution_count": 3,
     "metadata": {},
     "output_type": "execute_result"
    }
   ],
   "source": [
    "# Load PDF\n",
    "from langchain_community.document_loaders import UnstructuredPDFLoader\n",
    "\n",
    "local_path = \"./pdf/1.pdf\"\n",
    "if local_path:\n",
    "    loader = UnstructuredPDFLoader(file_path=local_path)\n",
    "    data = loader.load()\n",
    "    print(f\"PDF loaded successfully: {local_path}\")\n",
    "else:\n",
    "    print(\"Upload a PDF file\")\n",
    "\n",
    "# Split text into chunks\n",
    "text_splitter = RecursiveCharacterTextSplitter(chunk_size=1000, chunk_overlap=200)\n",
    "chunks = text_splitter.split_documents(data)\n",
    "print(f\"Text split into {len(chunks)} chunks\")\n",
    "\n",
    "# Create vector database\n",
    "db = Chroma.from_documents(\n",
    "    documents=chunks,\n",
    "    embedding=OllamaEmbeddings(model=model_name),\n",
    "    collection_name=\"local-rag\"\n",
    ")\n",
    "\n",
    "print(\"Vector database created successfully\")\n",
    "\n",
    "# Set up LLM and retrieval\n",
    "llm = ChatOllama(model=model_name)\n",
    "\n",
    "# Query prompt template\n",
    "QUERY_PROMPT = PromptTemplate(\n",
    "    input_variables=[\"question\"],\n",
    "    template=\"\"\"You are an AI language model assistant. Your task is to generate 2\n",
    "    different versions of the given user question to retrieve relevant documents from\n",
    "    a vector database. By generating multiple perspectives on the user question, your\n",
    "    goal is to help the user overcome some of the limitations of the distance-based\n",
    "    similarity search. Provide these alternative questions separated by newlines.\n",
    "    Original question: {question}\"\"\",\n",
    ")\n",
    "\n",
    "# Set up retriever\n",
    "retriever = MultiQueryRetriever.from_llm(\n",
    "    db.as_retriever(), \n",
    "    llm,\n",
    "    prompt=QUERY_PROMPT\n",
    ")\n",
    "\n",
    "# RAG prompt template\n",
    "template = \"\"\"To concisely answer the question based ONLY on the following context\n",
    "{context}.\n",
    "Question: {question}\"\"\"\n",
    "\n",
    "prompt = ChatPromptTemplate.from_template(template)\n",
    "\n",
    "# Create chain\n",
    "chain = (\n",
    "    {\"context\": retriever, \"question\": RunnablePassthrough()}\n",
    "    | prompt\n",
    "    | llm\n",
    "    | StrOutputParser()\n",
    ")\n",
    "\n",
    "def chat_with_pdf(quiestion):\n",
    "    \"\"\"\n",
    "    Chat with the PDF using the RAG chain and return the result as plain text.\n",
    "    \"\"\"\n",
    "    # Obtener la respuesta de la cadena (probablemente el resultado de chain.invoke)\n",
    "    result = chain.invoke(quiestion)\n",
    "    # Usamos regex para eliminar el contenido entre <think> y </think>\n",
    "    cleaned_result = re.sub(r'<think>.*?</think>', '', result, flags=re.DOTALL)\n",
    "\n",
    "    # Devolver el resultado como texto (en lugar de usar display(Markdown(...)))\n",
    "    return cleaned_result\n",
    "\n",
    "\n",
    "# Crear la interfaz\n",
    "interface = gr.Interface(fn=chat_with_pdf, inputs=\"text\", outputs=\"text\")\n",
    "# Lanzar la interfaz\n",
    "interface.launch()"
   ]
  },
  {
   "cell_type": "markdown",
   "metadata": {},
   "source": [
    "Resultado ejemplo:\n",
    "<img src=\"./img/Result model 2.png\" alt=\"Imagen de ejemplo\" width=\"800\">"
   ]
  },
  {
   "cell_type": "markdown",
   "metadata": {},
   "source": [
    "RAG con más de un archivo.\n",
    "\n",
    "Se cargaron en la carpeta ./pdf: \n",
    "\n",
    "se empleó la página de la wikipedia de condusef, la página de wikipedia de banamex y una página aleatoria del banco de México sobre el Artículo 48 Bis 2 de la Ley de Instituciones de Crédito."
   ]
  },
  {
   "cell_type": "code",
   "execution_count": 4,
   "metadata": {},
   "outputs": [
    {
     "name": "stderr",
     "output_type": "stream",
     "text": [
      "Ignoring wrong pointing object 8 0 (offset 0)\n",
      "Ignoring wrong pointing object 10 0 (offset 0)\n",
      "Ignoring wrong pointing object 12 0 (offset 0)\n",
      "Ignoring wrong pointing object 11 0 (offset 0)\n",
      "Ignoring wrong pointing object 13 0 (offset 0)\n",
      "Ignoring wrong pointing object 76 0 (offset 0)\n"
     ]
    },
    {
     "name": "stdout",
     "output_type": "stream",
     "text": [
      "Number of existing documents in DB: 50\n",
      "✅ No new documents to add\n"
     ]
    }
   ],
   "source": [
    "import argparse\n",
    "import os\n",
    "import shutil\n",
    "from langchain_community.document_loaders import PyPDFDirectoryLoader\n",
    "from langchain_text_splitters import RecursiveCharacterTextSplitter\n",
    "from langchain.schema.document import Document\n",
    "from langchain.vectorstores.chroma import Chroma\n",
    "from langchain_ollama import OllamaEmbeddings\n",
    "import sys\n",
    "from langchain_community.embeddings.ollama import OllamaEmbeddings\n",
    "from langchain_community.embeddings.bedrock import BedrockEmbeddings\n",
    "\n",
    "\n",
    "# Nombre del modelo que tienes corriendo\n",
    "model_name = \"deepseek-r1:1.5b\"\n",
    "\n",
    "CHROMA_PATH = \"./chroma\"\n",
    "DATA_PATH = \"./pdf/\"\n",
    "\n",
    "\n",
    "def get_embedding_function():\n",
    "    embeddings = OllamaEmbeddings(model=model_name)\n",
    "    # embeddings = OllamaEmbeddings(model=\"nomic-embed-text\")\n",
    "    return embeddings\n",
    "\n",
    "def load_documents():\n",
    "    document_loader = PyPDFDirectoryLoader(DATA_PATH)\n",
    "    return document_loader.load()\n",
    "\n",
    "\n",
    "def split_documents(documents: list[Document]):\n",
    "    text_splitter = RecursiveCharacterTextSplitter(\n",
    "        chunk_size=800,\n",
    "        chunk_overlap=80,\n",
    "        length_function=len,\n",
    "        is_separator_regex=False,\n",
    "    )\n",
    "    return text_splitter.split_documents(documents)\n",
    "\n",
    "\n",
    "def add_to_chroma(chunks: list[Document]):\n",
    "    # Load the existing database.\n",
    "    db = Chroma(\n",
    "        persist_directory=CHROMA_PATH, embedding_function=get_embedding_function()\n",
    "    )\n",
    "\n",
    "    # Calculate Page IDs.\n",
    "    chunks_with_ids = calculate_chunk_ids(chunks)\n",
    "\n",
    "    # Add or Update the documents.\n",
    "    existing_items = db.get(include=[])  # IDs are always included by default\n",
    "    existing_ids = set(existing_items[\"ids\"])\n",
    "    print(f\"Number of existing documents in DB: {len(existing_ids)}\")\n",
    "\n",
    "    # Only add documents that don't exist in the DB.\n",
    "    new_chunks = []\n",
    "    for chunk in chunks_with_ids:\n",
    "        if chunk.metadata[\"id\"] not in existing_ids:\n",
    "            new_chunks.append(chunk)\n",
    "\n",
    "    if len(new_chunks):\n",
    "        print(f\"👉 Adding new documents: {len(new_chunks)}\")\n",
    "        new_chunk_ids = [chunk.metadata[\"id\"] for chunk in new_chunks]\n",
    "        db.add_documents(new_chunks, ids=new_chunk_ids)\n",
    "        db.persist()\n",
    "    else:\n",
    "        print(\"✅ No new documents to add\")\n",
    "\n",
    "\n",
    "def calculate_chunk_ids(chunks):\n",
    "\n",
    "    # This will create IDs like \"data/monopoly.pdf:6:2\"\n",
    "    # Page Source : Page Number : Chunk Index\n",
    "\n",
    "    last_page_id = None\n",
    "    current_chunk_index = 0\n",
    "\n",
    "    for chunk in chunks:\n",
    "        source = chunk.metadata.get(\"source\")\n",
    "        page = chunk.metadata.get(\"page\")\n",
    "        current_page_id = f\"{source}:{page}\"\n",
    "\n",
    "        # If the page ID is the same as the last one, increment the index.\n",
    "        if current_page_id == last_page_id:\n",
    "            current_chunk_index += 1\n",
    "        else:\n",
    "            current_chunk_index = 0\n",
    "\n",
    "        # Calculate the chunk ID.\n",
    "        chunk_id = f\"{current_page_id}:{current_chunk_index}\"\n",
    "        last_page_id = current_page_id\n",
    "\n",
    "        # Add it to the page meta-data.\n",
    "        chunk.metadata[\"id\"] = chunk_id\n",
    "\n",
    "    return chunks\n",
    "\n",
    "\n",
    "def clear_database():\n",
    "    if os.path.exists(CHROMA_PATH):\n",
    "        shutil.rmtree(CHROMA_PATH)\n",
    "\n",
    "\n",
    "# Check if the database should be cleared (using the --reset flag).\n",
    "import sys\n",
    "parser = argparse.ArgumentParser()\n",
    "parser.add_argument(\"--reset\", action=\"store_true\", help=\"Reset the database.\")\n",
    "args, unknown = parser.parse_known_args(sys.argv[1:])  # ✅ aquí va el cambio\n",
    "\n",
    "if args.reset:\n",
    "    print(\"✨ Clearing Database\")\n",
    "    clear_database()\n",
    "\n",
    "# Create (or update) the data store.\n",
    "documents = load_documents()\n",
    "chunks = split_documents(documents)\n",
    "add_to_chroma(chunks)\n"
   ]
  },
  {
   "cell_type": "code",
   "execution_count": 5,
   "metadata": {},
   "outputs": [
    {
     "name": "stdout",
     "output_type": "stream",
     "text": [
      "Running on local URL:  http://127.0.0.1:7862\n",
      "\n",
      "To create a public link, set `share=True` in `launch()`.\n"
     ]
    },
    {
     "data": {
      "text/html": [
       "<div><iframe src=\"http://127.0.0.1:7862/\" width=\"100%\" height=\"500\" allow=\"autoplay; camera; microphone; clipboard-read; clipboard-write;\" frameborder=\"0\" allowfullscreen></iframe></div>"
      ],
      "text/plain": [
       "<IPython.core.display.HTML object>"
      ]
     },
     "metadata": {},
     "output_type": "display_data"
    },
    {
     "data": {
      "text/plain": []
     },
     "execution_count": 5,
     "metadata": {},
     "output_type": "execute_result"
    }
   ],
   "source": [
    "from langchain.prompts import ChatPromptTemplate\n",
    "from langchain_community.llms.ollama import Ollama\n",
    "import re\n",
    "\n",
    "PROMPT_TEMPLATE = \"\"\"You are an AI language model assistant. \n",
    "Your task is to concisely answer the question based ONLY on the following context\n",
    "{context}.\n",
    "Question: {question}\n",
    "\"\"\"\n",
    "\n",
    "\n",
    "def query_rag(query_text):\n",
    "    # Prepare the DB.\n",
    "    embedding_function = get_embedding_function()\n",
    "    vector_db = Chroma(persist_directory=CHROMA_PATH, embedding_function=embedding_function)\n",
    "\n",
    "     # Search the DB.\n",
    "    #results = vector_db.similarity_search_with_score(query_text, k=5)\n",
    "\n",
    "    #context_text = \"\\n\\n---\\n\\n\".join([doc.page_content for doc, _score in results])\n",
    "    prompt_template = ChatPromptTemplate.from_template(PROMPT_TEMPLATE)\n",
    "    prompt = prompt_template.format(context=vector_db, question=query_text)\n",
    "\n",
    "\n",
    "    model = Ollama(model=model_name)\n",
    "    response_text = model.invoke(prompt)\n",
    "\n",
    "    cleaned_result = re.sub(r'<think>.*?</think>', '', response_text, flags=re.DOTALL)\n",
    "\n",
    "    return cleaned_result\n",
    "\n",
    "import gradio as gr\n",
    "\n",
    "# Crear la interfaz\n",
    "interface = gr.Interface(fn=query_rag, inputs=\"text\", outputs=\"text\")\n",
    "# Lanzar la interfaz\n",
    "interface.launch()\n",
    "\n"
   ]
  },
  {
   "cell_type": "markdown",
   "metadata": {},
   "source": [
    "Resultado ejemplo:\n",
    "<img src=\"./img/Result model 3.png\" alt=\"Imagen de ejemplo\" width=\"800\">\n"
   ]
  },
  {
   "cell_type": "markdown",
   "metadata": {},
   "source": [
    "Referencias para este proyecto:\n",
    "\n",
    "https://aws.amazon.com/es/what-is/retrieval-augmented-generation/\n",
    "\n",
    "https://www.datacamp.com/es/tutorial/deepseek-r1-ollama\n",
    "\n",
    "https://github.com/tonykipkemboi/ollama_pdf_rag/blob/main/notebooks/experiments/updated_rag_notebook.ipynb\n",
    "\n",
    "https://github.com/pixegami/rag-tutorial-v2/tree/main\n",
    "\n",
    "https://github.com/fcori47/rag_basico/blob/master/Clase%206%20-%20Final.ipynb\n",
    "\n",
    "https://aws.amazon.com/es/what-is/retrieval-augmented-generation/\n",
    "\n",
    "DeepSeek-AI (2025) presenta *DeepSeek-R1: Incentivizing Reasoning Capability in LLMs via Reinforcement Learning* ([arXiv:2501.12948](https://arxiv.org/abs/2501.12948)).\n"
   ]
  },
  {
   "cell_type": "markdown",
   "metadata": {},
   "source": [
    "Por: Fausto Morales\n",
    "ffmogbaj@gmail.com"
   ]
  }
 ],
 "metadata": {
  "kernelspec": {
   "display_name": "venv-metal (3.9.6)",
   "language": "python",
   "name": "python3"
  },
  "language_info": {
   "codemirror_mode": {
    "name": "ipython",
    "version": 3
   },
   "file_extension": ".py",
   "mimetype": "text/x-python",
   "name": "python",
   "nbconvert_exporter": "python",
   "pygments_lexer": "ipython3",
   "version": "3.9.6"
  }
 },
 "nbformat": 4,
 "nbformat_minor": 2
}
