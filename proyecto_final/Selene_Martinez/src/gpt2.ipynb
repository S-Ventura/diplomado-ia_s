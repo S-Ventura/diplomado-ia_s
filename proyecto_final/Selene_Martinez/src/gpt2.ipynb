{
 "cells": [
  {
   "cell_type": "code",
   "execution_count": 19,
   "id": "d3f519ea",
   "metadata": {},
   "outputs": [],
   "source": [
    "vocal_seleccionada = input(\"Ingresa la vocal que deseas analizar (ae, ih, uh): \").lower()"
   ]
  },
  {
   "cell_type": "code",
   "execution_count": null,
   "id": "adbc68ea",
   "metadata": {},
   "outputs": [],
   "source": [
    "#pip install transformers datasets\n",
    "#pip install huggingface_hub[hf_xet]\n",
    "#!pip install hf_xet\n",
    "#pip install ipywidgets"
   ]
  },
  {
   "cell_type": "code",
   "execution_count": 1,
   "id": "9c79e66c",
   "metadata": {},
   "outputs": [
    {
     "name": "stderr",
     "output_type": "stream",
     "text": [
      "/home/luna/.local/share/virtualenvs/ProyectoF-5hn1HN-P/lib/python3.12/site-packages/transformers/data/datasets/language_modeling.py:53: FutureWarning: This dataset will be removed from the library soon, preprocessing should be handled with the 🤗 Datasets library. You can have a look at this example script for pointers: https://github.com/huggingface/transformers/blob/main/examples/pytorch/language-modeling/run_mlm.py\n",
      "  warnings.warn(\n",
      "`loss_type=None` was set in the config but it is unrecognised.Using the default loss: `ForCausalLMLoss`.\n"
     ]
    },
    {
     "data": {
      "text/html": [
       "\n",
       "    <div>\n",
       "      \n",
       "      <progress value='245' max='245' style='width:300px; height:20px; vertical-align: middle;'></progress>\n",
       "      [245/245 04:19, Epoch 7/7]\n",
       "    </div>\n",
       "    <table border=\"1\" class=\"dataframe\">\n",
       "  <thead>\n",
       " <tr style=\"text-align: left;\">\n",
       "      <th>Step</th>\n",
       "      <th>Training Loss</th>\n",
       "    </tr>\n",
       "  </thead>\n",
       "  <tbody>\n",
       "    <tr>\n",
       "      <td>10</td>\n",
       "      <td>3.573900</td>\n",
       "    </tr>\n",
       "    <tr>\n",
       "      <td>20</td>\n",
       "      <td>1.995400</td>\n",
       "    </tr>\n",
       "    <tr>\n",
       "      <td>30</td>\n",
       "      <td>1.032600</td>\n",
       "    </tr>\n",
       "    <tr>\n",
       "      <td>40</td>\n",
       "      <td>0.591500</td>\n",
       "    </tr>\n",
       "    <tr>\n",
       "      <td>50</td>\n",
       "      <td>0.426000</td>\n",
       "    </tr>\n",
       "    <tr>\n",
       "      <td>60</td>\n",
       "      <td>0.380100</td>\n",
       "    </tr>\n",
       "    <tr>\n",
       "      <td>70</td>\n",
       "      <td>0.348400</td>\n",
       "    </tr>\n",
       "    <tr>\n",
       "      <td>80</td>\n",
       "      <td>0.318100</td>\n",
       "    </tr>\n",
       "    <tr>\n",
       "      <td>90</td>\n",
       "      <td>0.305900</td>\n",
       "    </tr>\n",
       "    <tr>\n",
       "      <td>100</td>\n",
       "      <td>0.287900</td>\n",
       "    </tr>\n",
       "    <tr>\n",
       "      <td>110</td>\n",
       "      <td>0.282100</td>\n",
       "    </tr>\n",
       "    <tr>\n",
       "      <td>120</td>\n",
       "      <td>0.273200</td>\n",
       "    </tr>\n",
       "    <tr>\n",
       "      <td>130</td>\n",
       "      <td>0.276900</td>\n",
       "    </tr>\n",
       "    <tr>\n",
       "      <td>140</td>\n",
       "      <td>0.264700</td>\n",
       "    </tr>\n",
       "    <tr>\n",
       "      <td>150</td>\n",
       "      <td>0.247900</td>\n",
       "    </tr>\n",
       "    <tr>\n",
       "      <td>160</td>\n",
       "      <td>0.254800</td>\n",
       "    </tr>\n",
       "    <tr>\n",
       "      <td>170</td>\n",
       "      <td>0.251300</td>\n",
       "    </tr>\n",
       "    <tr>\n",
       "      <td>180</td>\n",
       "      <td>0.251300</td>\n",
       "    </tr>\n",
       "    <tr>\n",
       "      <td>190</td>\n",
       "      <td>0.241200</td>\n",
       "    </tr>\n",
       "    <tr>\n",
       "      <td>200</td>\n",
       "      <td>0.241300</td>\n",
       "    </tr>\n",
       "    <tr>\n",
       "      <td>210</td>\n",
       "      <td>0.240600</td>\n",
       "    </tr>\n",
       "    <tr>\n",
       "      <td>220</td>\n",
       "      <td>0.237700</td>\n",
       "    </tr>\n",
       "    <tr>\n",
       "      <td>230</td>\n",
       "      <td>0.233600</td>\n",
       "    </tr>\n",
       "    <tr>\n",
       "      <td>240</td>\n",
       "      <td>0.236200</td>\n",
       "    </tr>\n",
       "  </tbody>\n",
       "</table><p>"
      ],
      "text/plain": [
       "<IPython.core.display.HTML object>"
      ]
     },
     "metadata": {},
     "output_type": "display_data"
    },
    {
     "data": {
      "text/plain": [
       "TrainOutput(global_step=245, training_loss=0.5269282058793672, metrics={'train_runtime': 261.4394, 'train_samples_per_second': 7.31, 'train_steps_per_second': 0.937, 'total_flos': 124832268288000.0, 'train_loss': 0.5269282058793672, 'epoch': 7.0})"
      ]
     },
     "execution_count": 1,
     "metadata": {},
     "output_type": "execute_result"
    }
   ],
   "source": [
    "from transformers import GPT2Tokenizer, GPT2LMHeadModel, Trainer, TrainingArguments, TextDataset, DataCollatorForLanguageModeling\n",
    "\n",
    "# Cargar tokenizer y modelo base\n",
    "tokenizer = GPT2Tokenizer.from_pretrained(\"gpt2\")\n",
    "tokenizer.pad_token = tokenizer.eos_token\n",
    "model = GPT2LMHeadModel.from_pretrained(\"gpt2\")\n",
    "\n",
    "# Cargar dataset desde el archivo\n",
    "def cargar_dataset(path, tokenizer):\n",
    "    return TextDataset(\n",
    "        tokenizer=tokenizer,\n",
    "        file_path=path,\n",
    "        block_size=128\n",
    "    )\n",
    "\n",
    "train_dataset = cargar_dataset(\"data.txt\", tokenizer)\n",
    "data_collator = DataCollatorForLanguageModeling(tokenizer=tokenizer, mlm=False)\n",
    "\n",
    "# Argumentos de entrenamiento\n",
    "training_args = TrainingArguments(\n",
    "    output_dir=\"./gpt2-pron-feedback\",\n",
    "    overwrite_output_dir=True,\n",
    "    num_train_epochs=7,  # Probar un número ligeramente mayor\n",
    "    per_device_train_batch_size=8,  # Ajustar según la memoria de la GPU\n",
    "    save_steps=50,\n",
    "    save_total_limit=1,\n",
    "    logging_steps=10,\n",
    "    logging_dir='./logs',\n",
    "    learning_rate=3e-5,  # Probar un valor ligeramente diferente\n",
    "    fp16=True,  # Habilitar mixed precision si la GPU lo soporta\n",
    ")\n",
    "\n",
    "\n",
    "# Entrenar\n",
    "trainer = Trainer(\n",
    "    model=model,\n",
    "    args=training_args,\n",
    "    data_collator=data_collator,\n",
    "    train_dataset=train_dataset,\n",
    ")\n",
    "\n",
    "trainer.train()\n"
   ]
  },
  {
   "cell_type": "code",
   "execution_count": null,
   "id": "c8320a71",
   "metadata": {},
   "outputs": [
    {
     "data": {
      "text/plain": [
       "('./gpt2-pron-feedback/tokenizer_config.json',\n",
       " './gpt2-pron-feedback/special_tokens_map.json',\n",
       " './gpt2-pron-feedback/vocab.json',\n",
       " './gpt2-pron-feedback/merges.txt',\n",
       " './gpt2-pron-feedback/added_tokens.json')"
      ]
     },
     "execution_count": 2,
     "metadata": {},
     "output_type": "execute_result"
    }
   ],
   "source": [
    "model.save_pretrained(\"./gpt2-pron-feedback\")\n",
    "tokenizer.save_pretrained(\"./gpt2-pron-feedback\")"
   ]
  },
  {
   "cell_type": "markdown",
   "id": "e15db822",
   "metadata": {},
   "source": [
    "# Ejecución total"
   ]
  },
  {
   "cell_type": "code",
   "execution_count": null,
   "id": "75b3315c",
   "metadata": {},
   "outputs": [],
   "source": [
    "\n",
    "\n",
    "if vocal_seleccionada in medias_genero:\n",
    "    vocal_key = vocal_seleccionada\n",
    "    rango_f1 = [min(medias_genero[vocal_key][\"male\"][0], medias_genero[vocal_key][\"female\"][0]),\n",
    "                max(medias_genero[vocal_key][\"male\"][0], medias_genero[vocal_key][\"female\"][0])]\n",
    "    rango_f2 = [min(medias_genero[vocal_key][\"male\"][1], medias_genero[vocal_key][\"female\"][1]),\n",
    "                max(medias_genero[vocal_key][\"male\"][1], medias_genero[vocal_key][\"female\"][1])]\n",
    "\n",
    "    print(f\"\\nAnalizando la vocal: /{vocal_key}/\")\n",
    "    print(f\"Rango F1: {rango_f1} Hz\")\n",
    "    print(f\"Rango F2: {rango_f2} Hz\")\n",
    "\n",
    "    # Aquí iría el código para obtener los formantes de tu grabación (f1_usuario, f2_usuario)\n",
    "    # Por ahora, vamos a simularlos:\n",
    "    input_word = \"cat\"\n",
    "    phoneme = \"æ\"\n",
    "    f1, f2 = obtener_formantes(\"/media/luna/Selene NV3/ProyectoF/grabaciones/grabacion_20250423_193059.wav\")\n",
    "    print(f1, f2)\n",
    "    prompt = (\n",
    "        f\"La vocal presente en la palabra \\\"{input_word}\\\" es /{phoneme}/ con F1 = {int(f1)} Hz y F2 = {int(f2)} Hz.\\n\"\n",
    "        f\"Por favor, brinda una retroalimentación breve y amigable para mejorar la pronunciación, en este caso F2 esta bien pero F1 es muy alto:\"\n",
    "    )\n",
    "\n",
    "    # Aquí llamarías a tus funciones de cálculo de score y generación de prompt\n",
    "    # score_f1, score_f2 = calcular_score_individual(f1_usuario, f2_usuario, rango_f1, rango_f2)\n",
    "    # prompt = generar_prompt_automatico_con_sentimiento(vocal_key, f1_usuario, f2_usuario, score_f1, score_f2)\n",
    "    # print(f\"\\nPrompt generado:\\n{prompt}\")\n",
    "\n",
    "else:\n",
    "    print(\"La vocal ingresada no es válida. Por favor, elige entre 'ae', 'ih' o 'uh'.\")"
   ]
  }
 ],
 "metadata": {
  "kernelspec": {
   "display_name": "(ProyectoF 3.12)",
   "language": "python",
   "name": "pipenv-3.12"
  },
  "language_info": {
   "codemirror_mode": {
    "name": "ipython",
    "version": 3
   },
   "file_extension": ".py",
   "mimetype": "text/x-python",
   "name": "python",
   "nbconvert_exporter": "python",
   "pygments_lexer": "ipython3",
   "version": "3.12.3"
  }
 },
 "nbformat": 4,
 "nbformat_minor": 5
}
