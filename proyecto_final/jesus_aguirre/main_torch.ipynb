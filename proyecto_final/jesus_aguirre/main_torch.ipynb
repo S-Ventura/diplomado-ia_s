{
 "cells": [
  {
   "cell_type": "code",
   "execution_count": null,
   "id": "20e2ee14",
   "metadata": {},
   "outputs": [],
   "source": [
    "import os\n",
    "import json\n",
    "import pickle\n",
    "from utils.processor import encode_midi\n",
    "from utils.processor import decode_midi\n",
    "import pretty_midi\n",
    "from utils.processor import (_control_preprocess,\n",
    "    _note_preprocess,_divide_note,\n",
    "    _make_time_sift_events,_snote2events)\n",
    "import torch\n",
    "from torch.utils.data import DataLoader\n",
    "from torch import nn\n",
    "from utils.modelutil import Model\n",
    "\n",
    "\"\"\"\n",
    "Archivos y modelos generados en carpeta files\n",
    "\"\"\""
   ]
  },
  {
   "cell_type": "code",
   "execution_count": 2,
   "id": "27f074fb",
   "metadata": {},
   "outputs": [],
   "source": [
    "file=\"files/maestro-v2.0.0/maestro-v2.0.0.json\"\n",
    "\n",
    "with open(file,\"r\") as fb:\n",
    "    maestro_json=json.load(fb)\n",
    "\n",
    "for x in maestro_json:\n",
    "    mid=rf'files/maestro-v2.0.0/{x[\"midi_filename\"]}'\n",
    "    split_type = x[\"split\"]\n",
    "    f_name = mid.split(\"/\")[-1] + \".pickle\"\n",
    "    if(split_type == \"train\"):\n",
    "        o_file = rf'files/maestro-v2.0.0/train/{f_name}'\n",
    "    elif(split_type == \"validation\"):\n",
    "        o_file = rf'files/maestro-v2.0.0/val/{f_name}'\n",
    "    elif(split_type == \"test\"):\n",
    "        o_file = rf'files/maestro-v2.0.0/test/{f_name}'\n",
    "    prepped = encode_midi(mid)\n",
    "    with open(o_file,\"wb\") as f:\n",
    "        pickle.dump(prepped, f)"
   ]
  },
  {
   "cell_type": "code",
   "execution_count": 3,
   "id": "c8480cbc",
   "metadata": {},
   "outputs": [
    {
     "name": "stdout",
     "output_type": "stream",
     "text": [
      "there are 967 files in the train set\n",
      "there are 137 files in the validation set\n",
      "there are 178 files in the test set\n"
     ]
    }
   ],
   "source": [
    "train_size=len(os.listdir('files/maestro-v2.0.0/train'))\n",
    "print(f\"there are {train_size} files in the train set\")\n",
    "val_size=len(os.listdir('files/maestro-v2.0.0/val'))\n",
    "print(f\"there are {val_size} files in the validation set\")\n",
    "test_size=len(os.listdir('files/maestro-v2.0.0/test'))\n",
    "print(f\"there are {test_size} files in the test set\")"
   ]
  },
  {
   "cell_type": "code",
   "execution_count": 4,
   "id": "2ee067d2",
   "metadata": {},
   "outputs": [
    {
     "name": "stdout",
     "output_type": "stream",
     "text": [
      "<[SNote] time: 1.0325520833333333 type: note_on, value: 74, velocity: 86>\n",
      "<[SNote] time: 1.0442708333333333 type: note_on, value: 38, velocity: 77>\n",
      "<[SNote] time: 1.2265625 type: note_off, value: 74, velocity: None>\n",
      "<[SNote] time: 1.2395833333333333 type: note_on, value: 73, velocity: 69>\n",
      "<[SNote] time: 1.2408854166666665 type: note_on, value: 37, velocity: 64>\n"
     ]
    }
   ],
   "source": [
    "file='MIDI-Unprocessed_Chamber1_MID--AUDIO_07_R3_2018_wav--2'\n",
    "name=rf'files/maestro-v2.0.0/2018/{file}.midi'\n",
    "\n",
    "# encode\n",
    "events=[]\n",
    "notes=[]\n",
    "\n",
    "# convert song to an easily-manipulable format\n",
    "song=pretty_midi.PrettyMIDI(name)\n",
    "for inst in song.instruments:\n",
    "    inst_notes=inst.notes\n",
    "    ctrls=_control_preprocess([ctrl for ctrl in \n",
    "       inst.control_changes if ctrl.number == 64])\n",
    "    notes += _note_preprocess(ctrls, inst_notes)\n",
    "dnotes = _divide_note(notes)    \n",
    "dnotes.sort(key=lambda x: x.time)    \n",
    "for i in range(5):\n",
    "    print(dnotes[i])"
   ]
  },
  {
   "cell_type": "code",
   "execution_count": 5,
   "id": "33947dbd",
   "metadata": {},
   "outputs": [
    {
     "name": "stdout",
     "output_type": "stream",
     "text": [
      "<Event type: time_shift, value: 99>\n",
      "<Event type: time_shift, value: 2>\n",
      "<Event type: velocity, value: 21>\n",
      "<Event type: note_on, value: 74>\n",
      "<Event type: time_shift, value: 0>\n",
      "<Event type: velocity, value: 19>\n",
      "<Event type: note_on, value: 38>\n",
      "<Event type: time_shift, value: 17>\n",
      "<Event type: note_off, value: 74>\n",
      "<Event type: time_shift, value: 0>\n",
      "<Event type: velocity, value: 17>\n",
      "<Event type: note_on, value: 73>\n",
      "<Event type: velocity, value: 16>\n",
      "<Event type: note_on, value: 37>\n",
      "<Event type: time_shift, value: 0>\n"
     ]
    }
   ],
   "source": [
    "cur_time = 0\n",
    "cur_vel = 0\n",
    "for snote in dnotes:\n",
    "    events += _make_time_sift_events(prev_time=cur_time,\n",
    "                                     post_time=snote.time)\n",
    "    events += _snote2events(snote=snote, prev_vel=cur_vel)\n",
    "    cur_time = snote.time\n",
    "    cur_vel = snote.velocity    \n",
    "indexes=[e.to_int() for e in events]   \n",
    "for i in range(15):\n",
    "    print(events[i])"
   ]
  },
  {
   "cell_type": "code",
   "execution_count": 6,
   "id": "913932c2",
   "metadata": {},
   "outputs": [],
   "source": [
    "max_seq=2048\n",
    "def create_xys(folder):  \n",
    "    files=[os.path.join(folder,f) for f in os.listdir(folder)]\n",
    "    xys=[]\n",
    "    for f in files:\n",
    "        with open(f,\"rb\") as fb:\n",
    "            music=pickle.load(fb)\n",
    "        music=torch.LongTensor(music)      \n",
    "        x=torch.full((max_seq,),389, dtype=torch.long)\n",
    "        y=torch.full((max_seq,),389, dtype=torch.long)\n",
    "        length=len(music)\n",
    "        if length<=max_seq:\n",
    "            print(length)\n",
    "            x[:length]=music\n",
    "            y[:length-1]=music[1:]\n",
    "            y[length-1]=388    \n",
    "        else:\n",
    "            x=music[:max_seq]\n",
    "            y=music[1:max_seq+1]   \n",
    "        xys.append((x,y))\n",
    "    return xys"
   ]
  },
  {
   "cell_type": "code",
   "execution_count": 7,
   "id": "422f4453",
   "metadata": {},
   "outputs": [
    {
     "name": "stdout",
     "output_type": "stream",
     "text": [
      "586\n",
      "1643\n",
      "1771\n",
      "5\n",
      "15\n"
     ]
    }
   ],
   "source": [
    "trainfolder='files/maestro-v2.0.0/train'\n",
    "train=create_xys(trainfolder)"
   ]
  },
  {
   "cell_type": "code",
   "execution_count": 8,
   "id": "099fa9d4",
   "metadata": {},
   "outputs": [
    {
     "name": "stdout",
     "output_type": "stream",
     "text": [
      "processing the validation set\n",
      "processing the test set\n",
      "1837\n"
     ]
    }
   ],
   "source": [
    "valfolder='files/maestro-v2.0.0/val'\n",
    "testfolder='files/maestro-v2.0.0/test'\n",
    "print(\"processing the validation set\")\n",
    "val=create_xys(valfolder)\n",
    "print(\"processing the test set\")\n",
    "test=create_xys(testfolder)"
   ]
  },
  {
   "cell_type": "code",
   "execution_count": 9,
   "id": "8df2c621",
   "metadata": {},
   "outputs": [
    {
     "name": "stdout",
     "output_type": "stream",
     "text": [
      "torch.Size([2048])\n",
      "tensor([355, 260, 374,  ..., 294, 172, 269])\n"
     ]
    }
   ],
   "source": [
    "val1, _ = val[0]\n",
    "print(val1.shape)\n",
    "print(val1)"
   ]
  },
  {
   "cell_type": "code",
   "execution_count": 10,
   "id": "4d8c13d0",
   "metadata": {},
   "outputs": [
    {
     "data": {
      "text/plain": [
       "<pretty_midi.pretty_midi.PrettyMIDI at 0x7f5fbc1b1940>"
      ]
     },
     "execution_count": 10,
     "metadata": {},
     "output_type": "execute_result"
    }
   ],
   "source": [
    "file_path=\"files/val1.midi\"\n",
    "decode_midi(val1.cpu().numpy(), file_path=file_path)"
   ]
  },
  {
   "cell_type": "code",
   "execution_count": 11,
   "id": "dacc0210",
   "metadata": {},
   "outputs": [
    {
     "data": {
      "text/plain": [
       "<pretty_midi.pretty_midi.PrettyMIDI at 0x7f5f56374890>"
      ]
     },
     "execution_count": 11,
     "metadata": {},
     "output_type": "execute_result"
    }
   ],
   "source": [
    "train1, _ = train[0]\n",
    "file_path=\"files/train1.midi\"\n",
    "decode_midi(train1.cpu().numpy(), file_path=file_path)"
   ]
  },
  {
   "cell_type": "code",
   "execution_count": 12,
   "id": "eb7151b7",
   "metadata": {},
   "outputs": [],
   "source": [
    "batch_size=2\n",
    "trainloader=DataLoader(train,batch_size=batch_size,\n",
    "                       shuffle=True)"
   ]
  },
  {
   "cell_type": "code",
   "execution_count": 13,
   "id": "85e66de9",
   "metadata": {},
   "outputs": [],
   "source": [
    "class Config():\n",
    "    def __init__(self):\n",
    "        self.n_layer = 6\n",
    "        self.n_head = 8\n",
    "        self.n_embd = 512\n",
    "        self.vocab_size = 390\n",
    "        self.block_size = 2048 \n",
    "        self.embd_pdrop = 0.1\n",
    "        self.resid_pdrop = 0.1\n",
    "        self.attn_pdrop = 0.1\n",
    "        \n",
    "# instantiate a Config() class\n",
    "config=Config()\n",
    "device=\"cuda\" if torch.cuda.is_available() else \"cpu\""
   ]
  },
  {
   "cell_type": "code",
   "execution_count": 14,
   "id": "d9c807cf",
   "metadata": {},
   "outputs": [
    {
     "name": "stdout",
     "output_type": "stream",
     "text": [
      "number of parameters: 20.16M\n",
      "Model(\n",
      "  (transformer): ModuleDict(\n",
      "    (wte): Embedding(390, 512)\n",
      "    (wpe): Embedding(2048, 512)\n",
      "    (drop): Dropout(p=0.1, inplace=False)\n",
      "    (h): ModuleList(\n",
      "      (0-5): 6 x Block(\n",
      "        (ln_1): LayerNorm((512,), eps=1e-05, elementwise_affine=True)\n",
      "        (attn): CausalSelfAttention(\n",
      "          (c_attn): Linear(in_features=512, out_features=1536, bias=True)\n",
      "          (c_proj): Linear(in_features=512, out_features=512, bias=True)\n",
      "          (attn_dropout): Dropout(p=0.1, inplace=False)\n",
      "          (resid_dropout): Dropout(p=0.1, inplace=False)\n",
      "        )\n",
      "        (ln_2): LayerNorm((512,), eps=1e-05, elementwise_affine=True)\n",
      "        (mlp): ModuleDict(\n",
      "          (c_fc): Linear(in_features=512, out_features=2048, bias=True)\n",
      "          (c_proj): Linear(in_features=2048, out_features=512, bias=True)\n",
      "          (act): GELU()\n",
      "          (dropout): Dropout(p=0.1, inplace=False)\n",
      "        )\n",
      "      )\n",
      "    )\n",
      "    (ln_f): LayerNorm((512,), eps=1e-05, elementwise_affine=True)\n",
      "  )\n",
      "  (lm_head): Linear(in_features=512, out_features=390, bias=False)\n",
      ")\n"
     ]
    }
   ],
   "source": [
    "model=Model(config)\n",
    "model.to(device)\n",
    "num=sum(p.numel() for p in model.transformer.parameters())\n",
    "print(\"number of parameters: %.2fM\" % (num/1e6,))\n",
    "print(model)"
   ]
  },
  {
   "cell_type": "code",
   "execution_count": 15,
   "id": "af024874",
   "metadata": {},
   "outputs": [],
   "source": [
    "lr=0.0001\n",
    "optimizer = torch.optim.Adam(model.parameters(), lr=lr) \n",
    "# ignore the padding index\n",
    "loss_func=torch.nn.CrossEntropyLoss(ignore_index=389)"
   ]
  },
  {
   "cell_type": "code",
   "execution_count": null,
   "id": "e6c04e9f",
   "metadata": {},
   "outputs": [
    {
     "name": "stderr",
     "output_type": "stream",
     "text": [
      "/home/gibo/code/python/.venv/lib/python3.12/site-packages/torch/nn/modules/linear.py:125: UserWarning: Attempting to use hipBLASLt on an unsupported architecture! Overriding blas backend to hipblas (Triggered internally at /pytorch/aten/src/ATen/Context.cpp:310.)\n",
      "  return F.linear(input, self.weight, self.bias)\n"
     ]
    },
    {
     "name": "stdout",
     "output_type": "stream",
     "text": [
      "epoch 1 loss 4.233509041061086\n",
      "epoch 2 loss 3.9397175617454465\n",
      "epoch 3 loss 3.808679642263523\n",
      "epoch 4 loss 3.7136669843650063\n",
      "epoch 5 loss 3.6235392039472405\n",
      "epoch 6 loss 3.535602620317916\n",
      "epoch 7 loss 3.4552007017056803\n",
      "epoch 8 loss 3.386085465919873\n",
      "epoch 9 loss 3.3248091965667474\n",
      "epoch 10 loss 3.2722869343008876\n",
      "epoch 11 loss 3.221428602194983\n",
      "epoch 12 loss 3.176633269826243\n",
      "epoch 13 loss 3.1344467721694755\n",
      "epoch 14 loss 3.093346937628817\n",
      "epoch 15 loss 3.0516386647854956\n",
      "epoch 16 loss 3.006042497709763\n",
      "epoch 17 loss 2.964790206802778\n",
      "epoch 18 loss 2.9159620276167373\n",
      "epoch 19 loss 2.8703508973121643\n",
      "epoch 20 loss 2.8233438946984033\n",
      "epoch 21 loss 2.7739959703989268\n",
      "epoch 22 loss 2.728675560025144\n",
      "epoch 23 loss 2.682811163181116\n",
      "epoch 24 loss 2.639080459421331\n",
      "epoch 25 loss 2.5949006553523795\n",
      "epoch 26 loss 2.5536869114095513\n",
      "epoch 27 loss 2.5121113153035974\n",
      "epoch 28 loss 2.471019365324462\n",
      "epoch 29 loss 2.4328709690531425\n",
      "epoch 30 loss 2.393633859216674\n",
      "epoch 31 loss 2.354637351164148\n",
      "epoch 32 loss 2.3171033211483443\n",
      "epoch 33 loss 2.279557453453048\n",
      "epoch 34 loss 2.2417353187218185\n",
      "epoch 35 loss 2.206588619257793\n",
      "epoch 36 loss 2.1722061641452726\n",
      "epoch 37 loss 2.137476657540345\n",
      "epoch 38 loss 2.104079816213324\n",
      "epoch 39 loss 2.069768782735856\n",
      "epoch 40 loss 2.038570484839195\n",
      "epoch 41 loss 2.0037530520238165\n",
      "epoch 42 loss 1.9741509517362295\n",
      "epoch 43 loss 1.940263340295839\n",
      "epoch 44 loss 1.912639941558365\n",
      "epoch 45 loss 1.8827416692390915\n",
      "epoch 46 loss 1.8534886250811176\n",
      "epoch 47 loss 1.823478754886911\n",
      "epoch 48 loss 1.7947504779031453\n",
      "epoch 49 loss 1.7658971474190388\n",
      "epoch 50 loss 1.739908918615215\n",
      "epoch 51 loss 1.7111415249749649\n",
      "epoch 52 loss 1.6858656293104504\n",
      "epoch 53 loss 1.65919548864207\n",
      "epoch 54 loss 1.6337189568468362\n",
      "epoch 55 loss 1.6093089708611985\n",
      "epoch 56 loss 1.5870360680355513\n",
      "epoch 57 loss 1.5605266616364155\n",
      "epoch 58 loss 1.5379173543827593\n",
      "epoch 59 loss 1.5146226577522341\n",
      "epoch 60 loss 1.4931487155354712\n",
      "epoch 61 loss 1.4697572303212378\n",
      "epoch 62 loss 1.447813110903275\n",
      "epoch 63 loss 1.4288314354321188\n",
      "epoch 64 loss 1.4065506785861717\n",
      "epoch 65 loss 1.3869844283446793\n",
      "epoch 66 loss 1.364832352261898\n",
      "epoch 67 loss 1.3477665706853237\n",
      "epoch 68 loss 1.3258999206803062\n",
      "epoch 69 loss 1.3064776166411471\n",
      "epoch 70 loss 1.28857826558519\n",
      "epoch 71 loss 1.270106439501786\n",
      "epoch 72 loss 1.2520083418069792\n",
      "epoch 73 loss 1.2347344009836843\n",
      "epoch 74 loss 1.2159301739586286\n",
      "epoch 75 loss 1.1993840786297458\n",
      "epoch 76 loss 1.1825808358093923\n",
      "epoch 77 loss 1.16501986660248\n",
      "epoch 78 loss 1.1496116014058926\n",
      "epoch 79 loss 1.132264151553477\n",
      "epoch 80 loss 1.1193273802680417\n",
      "epoch 81 loss 1.1035882724710733\n",
      "epoch 82 loss 1.0870894954716863\n",
      "epoch 83 loss 1.0717274461649666\n",
      "epoch 84 loss 1.058315030183674\n",
      "epoch 85 loss 1.0434871942790087\n",
      "epoch 86 loss 1.0293274354343571\n",
      "epoch 87 loss 1.0142251951389076\n",
      "epoch 88 loss 1.0003753373445559\n",
      "epoch 89 loss 0.9891396577446914\n",
      "epoch 90 loss 0.9754768351385416\n",
      "epoch 91 loss 0.9624532592936981\n",
      "epoch 92 loss 0.951591228527471\n",
      "epoch 93 loss 0.9364289525619223\n",
      "epoch 94 loss 0.9222904958508231\n",
      "epoch 95 loss 0.9130627969818667\n",
      "epoch 96 loss 0.9016594050590657\n",
      "epoch 97 loss 0.8898020349750834\n",
      "epoch 98 loss 0.8788518914260155\n",
      "epoch 99 loss 0.8671726392320365\n",
      "epoch 100 loss 0.8589203655719757\n"
     ]
    }
   ],
   "source": [
    "model.train()  \n",
    "for i in range(1,101):\n",
    "    tloss = 0.\n",
    "    for idx, (x,y) in enumerate(trainloader):\n",
    "        x,y=x.to(device),y.to(device)\n",
    "        output = model(x)\n",
    "        loss=loss_func(output.view(-1,output.size(-1)),\n",
    "                           y.view(-1))\n",
    "        optimizer.zero_grad()\n",
    "        loss.backward()\n",
    "        nn.utils.clip_grad_norm_(model.parameters(),1)\n",
    "        optimizer.step()\n",
    "        tloss += loss.item()\n",
    "    print(f'epoch {i} loss {tloss/(idx+1)}') \n",
    "torch.save(model.state_dict(),f'files/musicTransAdj.pth') "
   ]
  },
  {
   "cell_type": "code",
   "execution_count": 18,
   "id": "2bd8faad",
   "metadata": {},
   "outputs": [
    {
     "data": {
      "text/plain": [
       "<pretty_midi.pretty_midi.PrettyMIDI at 0x7f5f56304980>"
      ]
     },
     "execution_count": 18,
     "metadata": {},
     "output_type": "execute_result"
    }
   ],
   "source": [
    "prompt, _  = test[42]\n",
    "prompt = prompt.to(device)\n",
    "len_prompt=250\n",
    "\n",
    "file_path = \"files/prompt.midi\"\n",
    "decode_midi(prompt[:len_prompt].cpu().numpy(),\n",
    "            file_path=file_path)"
   ]
  },
  {
   "cell_type": "code",
   "execution_count": 19,
   "id": "132caecf",
   "metadata": {},
   "outputs": [],
   "source": [
    "# define the softmax function for later use\n",
    "softmax=torch.nn.Softmax(dim=-1)\n",
    "def sample(prompt,seq_length=1000,temperature=1):\n",
    "    # create input to feed to the transformer\n",
    "    gen_seq=torch.full((1,seq_length),389,dtype=torch.long).to(device)\n",
    "    idx=len(prompt)\n",
    "    gen_seq[..., :idx]=prompt.type(torch.long).to(device)\n",
    "    while(idx < seq_length):\n",
    "        y=softmax(model(gen_seq[..., :idx])/temperature)[...,:388]\n",
    "        probs=y[:, idx-1, :]\n",
    "        distrib=torch.distributions.categorical.Categorical(probs=probs)\n",
    "        next_token=distrib.sample()\n",
    "        gen_seq[:, idx]=next_token\n",
    "        idx+=1\n",
    "    return gen_seq[:, :idx]"
   ]
  },
  {
   "cell_type": "code",
   "execution_count": 22,
   "id": "2920d267",
   "metadata": {},
   "outputs": [],
   "source": [
    "file_path = \"files/prompt.midi\"\n",
    "prompt = torch.tensor(encode_midi(file_path))\n",
    "generated_music=sample(prompt, seq_length=1000,temperature=2)"
   ]
  },
  {
   "cell_type": "code",
   "execution_count": 23,
   "id": "7259edf6",
   "metadata": {},
   "outputs": [
    {
     "name": "stdout",
     "output_type": "stream",
     "text": [
      "info removed pitch: 82\n",
      "info removed pitch: 86\n",
      "info removed pitch: 65\n",
      "info removed pitch: 89\n",
      "info removed pitch: 85\n",
      "info removed pitch: 25\n",
      "info removed pitch: 44\n",
      "info removed pitch: 43\n",
      "info removed pitch: 85\n",
      "info removed pitch: 84\n",
      "info removed pitch: 49\n",
      "info removed pitch: 64\n",
      "info removed pitch: 104\n",
      "info removed pitch: 97\n",
      "info removed pitch: 103\n",
      "info removed pitch: 50\n",
      "info removed pitch: 32\n",
      "info removed pitch: 24\n",
      "info removed pitch: 57\n",
      "info removed pitch: 92\n",
      "info removed pitch: 32\n",
      "info removed pitch: 41\n",
      "info removed pitch: 28\n"
     ]
    },
    {
     "data": {
      "text/plain": [
       "<pretty_midi.pretty_midi.PrettyMIDI at 0x7f5debeb8530>"
      ]
     },
     "execution_count": 23,
     "metadata": {},
     "output_type": "execute_result"
    }
   ],
   "source": [
    "music_data = generated_music[0].cpu().numpy()\n",
    "file_path = 'files/musicTrans4.midi'\n",
    "decode_midi(music_data, file_path=file_path)"
   ]
  },
  {
   "cell_type": "code",
   "execution_count": null,
   "id": "081e36be",
   "metadata": {},
   "outputs": [],
   "source": []
  }
 ],
 "metadata": {
  "kernelspec": {
   "display_name": ".venv",
   "language": "python",
   "name": "python3"
  },
  "language_info": {
   "codemirror_mode": {
    "name": "ipython",
    "version": 3
   },
   "file_extension": ".py",
   "mimetype": "text/x-python",
   "name": "python",
   "nbconvert_exporter": "python",
   "pygments_lexer": "ipython3",
   "version": "3.12.3"
  }
 },
 "nbformat": 4,
 "nbformat_minor": 5
}
